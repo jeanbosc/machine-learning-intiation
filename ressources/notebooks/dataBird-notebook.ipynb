{
 "cells": [
  {
   "cell_type": "markdown",
   "metadata": {},
   "source": [
    "## Création d'un modèle prédictif simple avec régression linéaire..."
   ]
  },
  {
   "cell_type": "markdown",
   "metadata": {},
   "source": [
    "Dans ce notebook, nous allons explorer comment créer un modèle de régression linéaire simple en utilisant Python. \n",
    "\n",
    "#### Pour ce live-coding, nous utiliserons un jeu de données qui recensent les salaires, l'âge et l'expérience de chaque individus pour prédire les salaires en fonctions des autres variables.\n",
    "\n",
    "### Contexte :\n",
    "\n",
    "La régression linéaire est l'une des techniques les plus fondamentales et les plus couramment utilisées en machine learning et en statistique. Elle permet de modéliser la relation entre une variable ou des variables indépendantes (ou prédictrice) et une variable dépendante (ou cible) en ajustant une ligne droite (ou hyperplan en cas de régression linéaire multiple) aux données observées."
   ]
  },
  {
   "cell_type": "markdown",
   "metadata": {},
   "source": [
    "### L'objectif de ce notebook pour ce live-coding est de :\n",
    "\n",
    "##### De montrer comment entraîner un modèle de régression linéaire simple, et de comprendre comment la prédiction s'opère.\n",
    "\n",
    "##### Let's code !"
   ]
  },
  {
   "cell_type": "markdown",
   "metadata": {},
   "source": [
    "# Comprendre la régression linéaire..."
   ]
  },
  {
   "cell_type": "markdown",
   "metadata": {},
   "source": [
    "### Commençons par importer les packages nécessaires et le jeu de donnée :"
   ]
  },
  {
   "cell_type": "code",
   "execution_count": 85,
   "metadata": {},
   "outputs": [],
   "source": [
    "# Importation des packages nécessaires pour explorer le jeu de donnée :\n",
    "\n",
    "import numpy as np # Utile pour les principes de vectorisations\n",
    "import pandas as pd # Nous allons manipuler les données sur un objet dataframe\n",
    "import matplotlib.pyplot as plt # Utile pour visualiser les données\n",
    "import seaborn as sns # Également utile pour visualiser les données\n",
    "\n",
    "# Packages permettant de faire du machine learning :\n",
    "\n",
    "from sklearn.model_selection import train_test_split # Nous permet de diviser un dataframe en 'train' et 'test'\n",
    "from sklearn.linear_model import LinearRegression # Nous allons pouvoir avec ce module, créer la fonction de la régression linéaire\n",
    "from sklearn.metrics import mean_squared_error, r2_score # Ce sont les métriques qui évaluerons notre modèle\n",
    "from sklearn.preprocessing import StandardScaler, MinMaxScaler # C'est pour initialiser la normalisation de nos données\n",
    "from math import sqrt # Ce package permet de manipuler les modèles de régression si nécessaire"
   ]
  },
  {
   "cell_type": "code",
   "execution_count": 86,
   "metadata": {},
   "outputs": [
    {
     "data": {
      "application/vnd.microsoft.datawrangler.viewer.v0+json": {
       "columns": [
        {
         "name": "index",
         "rawType": "int64",
         "type": "integer"
        },
        {
         "name": "age",
         "rawType": "int64",
         "type": "integer"
        },
        {
         "name": "experience",
         "rawType": "int64",
         "type": "integer"
        },
        {
         "name": "income",
         "rawType": "int64",
         "type": "integer"
        }
       ],
       "conversionMethod": "pd.DataFrame",
       "ref": "98d5200c-097e-4625-9666-1b50dd20d89d",
       "rows": [
        [
         "0",
         "25",
         "1",
         "30450"
        ],
        [
         "1",
         "30",
         "3",
         "35670"
        ],
        [
         "2",
         "47",
         "2",
         "31580"
        ],
        [
         "3",
         "32",
         "5",
         "40130"
        ],
        [
         "4",
         "43",
         "10",
         "47830"
        ],
        [
         "5",
         "51",
         "7",
         "41630"
        ],
        [
         "6",
         "28",
         "5",
         "41340"
        ],
        [
         "7",
         "33",
         "4",
         "37650"
        ],
        [
         "8",
         "37",
         "5",
         "40250"
        ],
        [
         "9",
         "39",
         "8",
         "45150"
        ],
        [
         "10",
         "29",
         "1",
         "27840"
        ],
        [
         "11",
         "47",
         "9",
         "46110"
        ],
        [
         "12",
         "54",
         "5",
         "36720"
        ],
        [
         "13",
         "51",
         "4",
         "34800"
        ],
        [
         "14",
         "44",
         "12",
         "51300"
        ],
        [
         "15",
         "41",
         "6",
         "38900"
        ],
        [
         "16",
         "58",
         "17",
         "63600"
        ],
        [
         "17",
         "23",
         "1",
         "30870"
        ],
        [
         "18",
         "44",
         "9",
         "44190"
        ],
        [
         "19",
         "37",
         "10",
         "48700"
        ]
       ],
       "shape": {
        "columns": 3,
        "rows": 20
       }
      },
      "text/html": [
       "<div>\n",
       "<style scoped>\n",
       "    .dataframe tbody tr th:only-of-type {\n",
       "        vertical-align: middle;\n",
       "    }\n",
       "\n",
       "    .dataframe tbody tr th {\n",
       "        vertical-align: top;\n",
       "    }\n",
       "\n",
       "    .dataframe thead th {\n",
       "        text-align: right;\n",
       "    }\n",
       "</style>\n",
       "<table border=\"1\" class=\"dataframe\">\n",
       "  <thead>\n",
       "    <tr style=\"text-align: right;\">\n",
       "      <th></th>\n",
       "      <th>age</th>\n",
       "      <th>experience</th>\n",
       "      <th>income</th>\n",
       "    </tr>\n",
       "  </thead>\n",
       "  <tbody>\n",
       "    <tr>\n",
       "      <th>0</th>\n",
       "      <td>25</td>\n",
       "      <td>1</td>\n",
       "      <td>30450</td>\n",
       "    </tr>\n",
       "    <tr>\n",
       "      <th>1</th>\n",
       "      <td>30</td>\n",
       "      <td>3</td>\n",
       "      <td>35670</td>\n",
       "    </tr>\n",
       "    <tr>\n",
       "      <th>2</th>\n",
       "      <td>47</td>\n",
       "      <td>2</td>\n",
       "      <td>31580</td>\n",
       "    </tr>\n",
       "    <tr>\n",
       "      <th>3</th>\n",
       "      <td>32</td>\n",
       "      <td>5</td>\n",
       "      <td>40130</td>\n",
       "    </tr>\n",
       "    <tr>\n",
       "      <th>4</th>\n",
       "      <td>43</td>\n",
       "      <td>10</td>\n",
       "      <td>47830</td>\n",
       "    </tr>\n",
       "    <tr>\n",
       "      <th>5</th>\n",
       "      <td>51</td>\n",
       "      <td>7</td>\n",
       "      <td>41630</td>\n",
       "    </tr>\n",
       "    <tr>\n",
       "      <th>6</th>\n",
       "      <td>28</td>\n",
       "      <td>5</td>\n",
       "      <td>41340</td>\n",
       "    </tr>\n",
       "    <tr>\n",
       "      <th>7</th>\n",
       "      <td>33</td>\n",
       "      <td>4</td>\n",
       "      <td>37650</td>\n",
       "    </tr>\n",
       "    <tr>\n",
       "      <th>8</th>\n",
       "      <td>37</td>\n",
       "      <td>5</td>\n",
       "      <td>40250</td>\n",
       "    </tr>\n",
       "    <tr>\n",
       "      <th>9</th>\n",
       "      <td>39</td>\n",
       "      <td>8</td>\n",
       "      <td>45150</td>\n",
       "    </tr>\n",
       "    <tr>\n",
       "      <th>10</th>\n",
       "      <td>29</td>\n",
       "      <td>1</td>\n",
       "      <td>27840</td>\n",
       "    </tr>\n",
       "    <tr>\n",
       "      <th>11</th>\n",
       "      <td>47</td>\n",
       "      <td>9</td>\n",
       "      <td>46110</td>\n",
       "    </tr>\n",
       "    <tr>\n",
       "      <th>12</th>\n",
       "      <td>54</td>\n",
       "      <td>5</td>\n",
       "      <td>36720</td>\n",
       "    </tr>\n",
       "    <tr>\n",
       "      <th>13</th>\n",
       "      <td>51</td>\n",
       "      <td>4</td>\n",
       "      <td>34800</td>\n",
       "    </tr>\n",
       "    <tr>\n",
       "      <th>14</th>\n",
       "      <td>44</td>\n",
       "      <td>12</td>\n",
       "      <td>51300</td>\n",
       "    </tr>\n",
       "    <tr>\n",
       "      <th>15</th>\n",
       "      <td>41</td>\n",
       "      <td>6</td>\n",
       "      <td>38900</td>\n",
       "    </tr>\n",
       "    <tr>\n",
       "      <th>16</th>\n",
       "      <td>58</td>\n",
       "      <td>17</td>\n",
       "      <td>63600</td>\n",
       "    </tr>\n",
       "    <tr>\n",
       "      <th>17</th>\n",
       "      <td>23</td>\n",
       "      <td>1</td>\n",
       "      <td>30870</td>\n",
       "    </tr>\n",
       "    <tr>\n",
       "      <th>18</th>\n",
       "      <td>44</td>\n",
       "      <td>9</td>\n",
       "      <td>44190</td>\n",
       "    </tr>\n",
       "    <tr>\n",
       "      <th>19</th>\n",
       "      <td>37</td>\n",
       "      <td>10</td>\n",
       "      <td>48700</td>\n",
       "    </tr>\n",
       "  </tbody>\n",
       "</table>\n",
       "</div>"
      ],
      "text/plain": [
       "    age  experience  income\n",
       "0    25           1   30450\n",
       "1    30           3   35670\n",
       "2    47           2   31580\n",
       "3    32           5   40130\n",
       "4    43          10   47830\n",
       "5    51           7   41630\n",
       "6    28           5   41340\n",
       "7    33           4   37650\n",
       "8    37           5   40250\n",
       "9    39           8   45150\n",
       "10   29           1   27840\n",
       "11   47           9   46110\n",
       "12   54           5   36720\n",
       "13   51           4   34800\n",
       "14   44          12   51300\n",
       "15   41           6   38900\n",
       "16   58          17   63600\n",
       "17   23           1   30870\n",
       "18   44           9   44190\n",
       "19   37          10   48700"
      ]
     },
     "execution_count": 86,
     "metadata": {},
     "output_type": "execute_result"
    }
   ],
   "source": [
    "# Importation de notre jeu de donnée :\n",
    "\n",
    "df_income = pd.read_csv('../datasets/income.csv')\n",
    "df_income"
   ]
  },
  {
   "cell_type": "markdown",
   "metadata": {},
   "source": [
    "### Explorons la donnée :"
   ]
  },
  {
   "cell_type": "code",
   "execution_count": 87,
   "metadata": {},
   "outputs": [
    {
     "name": "stdout",
     "output_type": "stream",
     "text": [
      "Le dataframe à 20 éléments sur la première dimensions et 3 sur la deuxième dimension.\n",
      "Les colonnes sont: l'age, l'experience et l'income.\n",
      "\n",
      "Les types de données:\n",
      "<class 'pandas.core.frame.DataFrame'>\n",
      "RangeIndex: 20 entries, 0 to 19\n",
      "Data columns (total 3 columns):\n",
      " #   Column      Non-Null Count  Dtype\n",
      "---  ------      --------------  -----\n",
      " 0   age         20 non-null     int64\n",
      " 1   experience  20 non-null     int64\n",
      " 2   income      20 non-null     int64\n",
      "dtypes: int64(3)\n",
      "memory usage: 612.0 bytes\n",
      "None\n",
      "\n",
      " Les statistiques descriptives:\n",
      "             age  experience        income\n",
      "count  20.000000   20.000000     20.000000\n",
      "mean   39.650000    6.200000  40735.500000\n",
      "std    10.027725    4.124382   8439.797625\n",
      "min    23.000000    1.000000  27840.000000\n",
      "25%    31.500000    3.750000  35452.500000\n",
      "50%    40.000000    5.000000  40190.000000\n",
      "75%    47.000000    9.000000  45390.000000\n",
      "max    58.000000   17.000000  63600.000000\n"
     ]
    }
   ],
   "source": [
    "# Méthodes classique permettant de comprendre notre jeu de donnée :\n",
    "\n",
    "print(f\"Le dataframe à {df_income.shape[0]} éléments sur la première dimensions et {df_income.shape[1]} sur la deuxième dimension.\")\n",
    "print(f\"Les colonnes sont: l'{df_income.columns[0]}, l'{df_income.columns[1]} et l'{df_income.columns[2]}.\")\n",
    "print(\"\\nLes types de données:\")\n",
    "print(df_income.info())\n",
    "print(\"\\n Les statistiques descriptives:\")\n",
    "print(df_income.describe())"
   ]
  },
  {
   "cell_type": "markdown",
   "metadata": {},
   "source": [
    "Points à relever :\n",
    "- Le jeu de donnée ne présente pas de valeurs manquantes, nos variables comportent des données de type integers.\n",
    "- Nous pouvons nous attarder sur les métriques principales, la moyenne, la médiane ainsi que l'écart-type de nos variables."
   ]
  },
  {
   "cell_type": "code",
   "execution_count": 88,
   "metadata": {},
   "outputs": [
    {
     "data": {
      "image/png": "[encoded data removed]",
      "text/plain": [
       "<Figure size 1400x600 with 3 Axes>"
      ]
     },
     "metadata": {},
     "output_type": "display_data"
    }
   ],
   "source": [
    "# Code permettant de visualiser la distribution des âges :\n",
    "\n",
    "plt.figure(figsize=(14, 6))\n",
    "plt.subplot(1, 3, 1)\n",
    "sns.histplot(df_income['age'], kde=True, bins=5)\n",
    "plt.title('Distribution des âges')\n",
    "\n",
    "# Code permettant de visualiser la distribution de l'experience :\n",
    "\n",
    "plt.subplot(1, 3, 2)\n",
    "sns.histplot(df_income['experience'], kde=True, bins=5)\n",
    "plt.title('Distribution de l\\'expérience')\n",
    "\n",
    "# Code permettant de visualiser la distribution des salaires :\n",
    "\n",
    "plt.subplot(1, 3, 3)\n",
    "sns.histplot(df_income['income'], kde=True, bins=5)\n",
    "plt.title('Distribution des revenus')\n",
    "\n",
    "plt.tight_layout()\n",
    "plt.show()"
   ]
  },
  {
   "cell_type": "markdown",
   "metadata": {},
   "source": [
    "Points à relever :\n",
    "- Nous observons une certaines similarités dans la distribution des variables, grâce au kernel density estimate (kde).\n",
    "- Nous pouvons déjà nous poser la question de l'influence des variables prédictrices sur notre variable cible."
   ]
  },
  {
   "cell_type": "code",
   "execution_count": 89,
   "metadata": {},
   "outputs": [
    {
     "data": {
      "text/plain": [
       "<seaborn.axisgrid.PairGrid at 0x1c7b7dcf610>"
      ]
     },
     "execution_count": 89,
     "metadata": {},
     "output_type": "execute_result"
    },
    {
     "data": {
      "image/png": "[encoded data removed]",
      "text/plain": [
       "<Figure size 750x750 with 12 Axes>"
      ]
     },
     "metadata": {},
     "output_type": "display_data"
    }
   ],
   "source": [
    "# La méthode '.pairplot()' est très utile pour visualiser les relations linéaires entre les variables :\n",
    "\n",
    "sns.pairplot(df_income) "
   ]
  },
  {
   "cell_type": "markdown",
   "metadata": {},
   "source": [
    "Points à relever :\n",
    "- On constate une linéarité forte entre les salaires et l'expérience, la linéarité est plus faible entre les salaires et l'âge.\n",
    "\n",
    "- Nous pouvons donc affirmer que les variables prédictrices ont un pouvoir d'influence significative sur notre variable cible. "
   ]
  },
  {
   "cell_type": "code",
   "execution_count": 90,
   "metadata": {},
   "outputs": [
    {
     "data": {
      "text/plain": [
       "<Axes: >"
      ]
     },
     "execution_count": 90,
     "metadata": {},
     "output_type": "execute_result"
    },
    {
     "data": {
      "image/png": "[encoded data removed]",
      "text/plain": [
       "<Figure size 640x480 with 2 Axes>"
      ]
     },
     "metadata": {},
     "output_type": "display_data"
    }
   ],
   "source": [
    "# Visualisation des coefficients de corrélation des variables de notre jeu de donnée\n",
    "\n",
    "correlation_income = df_income.corr()\n",
    "sns.heatmap(correlation_income, annot=True, fmt=\".2%\")"
   ]
  },
  {
   "cell_type": "markdown",
   "metadata": {},
   "source": [
    "Points à relever :\n",
    "- On observe une très forte corrélation positive de 98% entre l'expérience et le salaire, ce qui indique que l'expérience est un facteur déterminant majeur dans la variation des salaires. La corrélation entre l'âge et le salaire est de 53%, indiquant que l'âge a une influence modérée mais moins directe sur le salaire comparé à l'expérience.\n",
    "\n",
    "- La corrélation relativement plus faible entre l'âge et le salaire, comparée à celle entre l'expérience et le salaire, montre que l'expérience est un prédicteur beaucoup plus significatif des salaires."
   ]
  },
  {
   "cell_type": "markdown",
   "metadata": {},
   "source": [
    "### C'est le moment d'initialiser notre modèle de régression !"
   ]
  },
  {
   "cell_type": "code",
   "execution_count": 91,
   "metadata": {},
   "outputs": [
    {
     "name": "stdout",
     "output_type": "stream",
     "text": [
      "Taille de X_train: (16, 2), taille de X_test: (4, 2), taille de y_train: (16,), taille de y_test: (4,)\n"
     ]
    }
   ],
   "source": [
    "# Il est temps de diviser notre jeu de donnée en quatre :\n",
    "\n",
    "features = ['age', 'experience'] # Représente les variables prédictrices (qui explique le salaire)\n",
    "target = 'income' # Représente le salaire, c'est notre variable cible\n",
    "\n",
    "X = df_income[features] # Xs est un dataframe contenant deux colonnes\n",
    "y = df_income[target] # y est un dataframe qui contient une colonne\n",
    "\n",
    "X_train, X_test, y_train, y_test = train_test_split(X, y, test_size=0.2) # C'est ici qu'on vient effectuer le split des données\n",
    "\n",
    "print(f'Taille de X_train: {X_train.shape}, taille de X_test: {X_test.shape}, taille de y_train: {y_train.shape}, taille de y_test: {y_test.shape}')"
   ]
  },
  {
   "cell_type": "markdown",
   "metadata": {},
   "source": [
    "Points à relever :\n",
    "- On commence par diviser notre jeu de donnée en quatre parties :\n",
    "\n",
    "    - On isole la variable cible des variables prédictrices.\n",
    "\n",
    "    - On viens ensuite diviser notre jeu de données en deux, de façon aléatoire :\n",
    "    \n",
    "        - 80% des données sont réparties dans deux variables d'entraînement, X_train et y_train.\n",
    "    \n",
    "        - 20% des données sont réparties dans deux variables d'evaluation, X_test et y_test.\n",
    "\n",
    "- On constate la bonne répartition des données dans chacunes de nos variables !"
   ]
  },
  {
   "cell_type": "code",
   "execution_count": 92,
   "metadata": {},
   "outputs": [],
   "source": [
    "# Création du modèle de régression linéaire :\n",
    "\n",
    "model = LinearRegression() # On initialise la fonction de régression (f(x)), dans une variable\n",
    "\n",
    "model.fit(X_train, y_train) # Entraînement du modèle sur les données d'entraînement\n",
    "\n",
    "y_pred = model.predict(X_test) # Prédiction sur l'ensemble de test"
   ]
  },
  {
   "cell_type": "markdown",
   "metadata": {},
   "source": [
    "Points à relever :\n",
    "- On vient initialiser dans une variable la fonction de régression pour pouvoir appliquer des méthodes dessus.\n",
    "\n",
    "- Justement, on applique sur la variable la méthode '.fit()' :\n",
    "\n",
    "    - On vient entraîner le modèle sur nos variables d'entraînement, X_train et y_train.\n",
    "\n",
    "- On applique la méthode '.predict()' sur notre variable d'évaluation, X_test :\n",
    "\n",
    "    - Cette méthode permet de créer 4 valeurs prédites en fonctions des variables prédictrices dans X_test."
   ]
  },
  {
   "cell_type": "code",
   "execution_count": 93,
   "metadata": {},
   "outputs": [
    {
     "name": "stdout",
     "output_type": "stream",
     "text": [
      "Coefficient de détermination: 0.9834\n",
      "la précision du modèle en terme de prédiction est de : 98.0%\n"
     ]
    }
   ],
   "source": [
    "# Calcul du coefficient de détermination R² : \n",
    "\n",
    "r2 = r2_score(y_test, y_pred)\n",
    "\n",
    "print(f'Coefficient de détermination: {round(r2, 4)}') # Ce coefficicent indique la proportion de la variance des salaires qui est expliquée par le modèle\n",
    "print(f'la précision du modèle en terme de prédiction est de : {round(r2, 2) * 100}%')"
   ]
  },
  {
   "cell_type": "markdown",
   "metadata": {},
   "source": [
    "Points à relever :\n",
    "- Un R² proche de 1 (ou 100%) suggère que le modèle explique bien la variabilité des salaires en fonction de l'âge et de l'expérience.\n",
    "\n",
    "- Toutefois, un R² très élevé pourrait aussi indiquer un risque d'overfitting si le modèle est trop spécifique aux données d'entraînement, ce qui pourrait réduire sa capacité à généraliser sur de nouvelles données."
   ]
  },
  {
   "cell_type": "code",
   "execution_count": 94,
   "metadata": {},
   "outputs": [
    {
     "data": {
      "application/vnd.microsoft.datawrangler.viewer.v0+json": {
       "columns": [
        {
         "name": "index",
         "rawType": "int64",
         "type": "integer"
        },
        {
         "name": "age",
         "rawType": "int64",
         "type": "integer"
        },
        {
         "name": "experience",
         "rawType": "int64",
         "type": "integer"
        },
        {
         "name": "income",
         "rawType": "float64",
         "type": "float"
        },
        {
         "name": "predicted_income",
         "rawType": "float64",
         "type": "float"
        }
       ],
       "conversionMethod": "pd.DataFrame",
       "ref": "a90ed1e9-9c67-412e-82d9-157ff98b953a",
       "rows": [
        [
         "0",
         "25",
         "1",
         "30450.0",
         null
        ],
        [
         "1",
         "30",
         "3",
         "35670.0",
         null
        ],
        [
         "2",
         "47",
         "2",
         "31580.0",
         null
        ],
        [
         "3",
         "32",
         "5",
         "40130.0",
         null
        ],
        [
         "4",
         "43",
         "10",
         "47830.0",
         null
        ],
        [
         "5",
         "51",
         "7",
         "41630.0",
         null
        ],
        [
         "6",
         "28",
         "5",
         "41340.0",
         null
        ],
        [
         "7",
         "33",
         "4",
         "37650.0",
         null
        ],
        [
         "8",
         "37",
         "5",
         "40250.0",
         null
        ],
        [
         "9",
         "39",
         "8",
         "45150.0",
         null
        ],
        [
         "10",
         "29",
         "1",
         "27840.0",
         null
        ],
        [
         "11",
         "47",
         "9",
         "46110.0",
         null
        ],
        [
         "12",
         "54",
         "5",
         "36720.0",
         null
        ],
        [
         "13",
         "51",
         "4",
         "34800.0",
         null
        ],
        [
         "14",
         "44",
         "12",
         "51300.0",
         null
        ],
        [
         "15",
         "41",
         "6",
         "38900.0",
         null
        ],
        [
         "16",
         "58",
         "17",
         "63600.0",
         null
        ],
        [
         "17",
         "23",
         "1",
         "30870.0",
         null
        ],
        [
         "18",
         "44",
         "9",
         "44190.0",
         null
        ],
        [
         "19",
         "37",
         "10",
         "48700.0",
         null
        ],
        [
         "20",
         "47",
         "12",
         null,
         "52768.0"
        ],
        [
         "21",
         "50",
         "20",
         null,
         "70010.0"
        ],
        [
         "22",
         "28",
         "7",
         null,
         "43826.0"
        ],
        [
         "23",
         "19",
         "2",
         null,
         "33813.0"
        ]
       ],
       "shape": {
        "columns": 4,
        "rows": 24
       }
      },
      "text/html": [
       "<div>\n",
       "<style scoped>\n",
       "    .dataframe tbody tr th:only-of-type {\n",
       "        vertical-align: middle;\n",
       "    }\n",
       "\n",
       "    .dataframe tbody tr th {\n",
       "        vertical-align: top;\n",
       "    }\n",
       "\n",
       "    .dataframe thead th {\n",
       "        text-align: right;\n",
       "    }\n",
       "</style>\n",
       "<table border=\"1\" class=\"dataframe\">\n",
       "  <thead>\n",
       "    <tr style=\"text-align: right;\">\n",
       "      <th></th>\n",
       "      <th>age</th>\n",
       "      <th>experience</th>\n",
       "      <th>income</th>\n",
       "      <th>predicted_income</th>\n",
       "    </tr>\n",
       "  </thead>\n",
       "  <tbody>\n",
       "    <tr>\n",
       "      <th>0</th>\n",
       "      <td>25</td>\n",
       "      <td>1</td>\n",
       "      <td>30450.0</td>\n",
       "      <td>NaN</td>\n",
       "    </tr>\n",
       "    <tr>\n",
       "      <th>1</th>\n",
       "      <td>30</td>\n",
       "      <td>3</td>\n",
       "      <td>35670.0</td>\n",
       "      <td>NaN</td>\n",
       "    </tr>\n",
       "    <tr>\n",
       "      <th>2</th>\n",
       "      <td>47</td>\n",
       "      <td>2</td>\n",
       "      <td>31580.0</td>\n",
       "      <td>NaN</td>\n",
       "    </tr>\n",
       "    <tr>\n",
       "      <th>3</th>\n",
       "      <td>32</td>\n",
       "      <td>5</td>\n",
       "      <td>40130.0</td>\n",
       "      <td>NaN</td>\n",
       "    </tr>\n",
       "    <tr>\n",
       "      <th>4</th>\n",
       "      <td>43</td>\n",
       "      <td>10</td>\n",
       "      <td>47830.0</td>\n",
       "      <td>NaN</td>\n",
       "    </tr>\n",
       "    <tr>\n",
       "      <th>5</th>\n",
       "      <td>51</td>\n",
       "      <td>7</td>\n",
       "      <td>41630.0</td>\n",
       "      <td>NaN</td>\n",
       "    </tr>\n",
       "    <tr>\n",
       "      <th>6</th>\n",
       "      <td>28</td>\n",
       "      <td>5</td>\n",
       "      <td>41340.0</td>\n",
       "      <td>NaN</td>\n",
       "    </tr>\n",
       "    <tr>\n",
       "      <th>7</th>\n",
       "      <td>33</td>\n",
       "      <td>4</td>\n",
       "      <td>37650.0</td>\n",
       "      <td>NaN</td>\n",
       "    </tr>\n",
       "    <tr>\n",
       "      <th>8</th>\n",
       "      <td>37</td>\n",
       "      <td>5</td>\n",
       "      <td>40250.0</td>\n",
       "      <td>NaN</td>\n",
       "    </tr>\n",
       "    <tr>\n",
       "      <th>9</th>\n",
       "      <td>39</td>\n",
       "      <td>8</td>\n",
       "      <td>45150.0</td>\n",
       "      <td>NaN</td>\n",
       "    </tr>\n",
       "    <tr>\n",
       "      <th>10</th>\n",
       "      <td>29</td>\n",
       "      <td>1</td>\n",
       "      <td>27840.0</td>\n",
       "      <td>NaN</td>\n",
       "    </tr>\n",
       "    <tr>\n",
       "      <th>11</th>\n",
       "      <td>47</td>\n",
       "      <td>9</td>\n",
       "      <td>46110.0</td>\n",
       "      <td>NaN</td>\n",
       "    </tr>\n",
       "    <tr>\n",
       "      <th>12</th>\n",
       "      <td>54</td>\n",
       "      <td>5</td>\n",
       "      <td>36720.0</td>\n",
       "      <td>NaN</td>\n",
       "    </tr>\n",
       "    <tr>\n",
       "      <th>13</th>\n",
       "      <td>51</td>\n",
       "      <td>4</td>\n",
       "      <td>34800.0</td>\n",
       "      <td>NaN</td>\n",
       "    </tr>\n",
       "    <tr>\n",
       "      <th>14</th>\n",
       "      <td>44</td>\n",
       "      <td>12</td>\n",
       "      <td>51300.0</td>\n",
       "      <td>NaN</td>\n",
       "    </tr>\n",
       "    <tr>\n",
       "      <th>15</th>\n",
       "      <td>41</td>\n",
       "      <td>6</td>\n",
       "      <td>38900.0</td>\n",
       "      <td>NaN</td>\n",
       "    </tr>\n",
       "    <tr>\n",
       "      <th>16</th>\n",
       "      <td>58</td>\n",
       "      <td>17</td>\n",
       "      <td>63600.0</td>\n",
       "      <td>NaN</td>\n",
       "    </tr>\n",
       "    <tr>\n",
       "      <th>17</th>\n",
       "      <td>23</td>\n",
       "      <td>1</td>\n",
       "      <td>30870.0</td>\n",
       "      <td>NaN</td>\n",
       "    </tr>\n",
       "    <tr>\n",
       "      <th>18</th>\n",
       "      <td>44</td>\n",
       "      <td>9</td>\n",
       "      <td>44190.0</td>\n",
       "      <td>NaN</td>\n",
       "    </tr>\n",
       "    <tr>\n",
       "      <th>19</th>\n",
       "      <td>37</td>\n",
       "      <td>10</td>\n",
       "      <td>48700.0</td>\n",
       "      <td>NaN</td>\n",
       "    </tr>\n",
       "    <tr>\n",
       "      <th>20</th>\n",
       "      <td>47</td>\n",
       "      <td>12</td>\n",
       "      <td>NaN</td>\n",
       "      <td>52768.0</td>\n",
       "    </tr>\n",
       "    <tr>\n",
       "      <th>21</th>\n",
       "      <td>50</td>\n",
       "      <td>20</td>\n",
       "      <td>NaN</td>\n",
       "      <td>70010.0</td>\n",
       "    </tr>\n",
       "    <tr>\n",
       "      <th>22</th>\n",
       "      <td>28</td>\n",
       "      <td>7</td>\n",
       "      <td>NaN</td>\n",
       "      <td>43826.0</td>\n",
       "    </tr>\n",
       "    <tr>\n",
       "      <th>23</th>\n",
       "      <td>19</td>\n",
       "      <td>2</td>\n",
       "      <td>NaN</td>\n",
       "      <td>33813.0</td>\n",
       "    </tr>\n",
       "  </tbody>\n",
       "</table>\n",
       "</div>"
      ],
      "text/plain": [
       "    age  experience   income  predicted_income\n",
       "0    25           1  30450.0               NaN\n",
       "1    30           3  35670.0               NaN\n",
       "2    47           2  31580.0               NaN\n",
       "3    32           5  40130.0               NaN\n",
       "4    43          10  47830.0               NaN\n",
       "5    51           7  41630.0               NaN\n",
       "6    28           5  41340.0               NaN\n",
       "7    33           4  37650.0               NaN\n",
       "8    37           5  40250.0               NaN\n",
       "9    39           8  45150.0               NaN\n",
       "10   29           1  27840.0               NaN\n",
       "11   47           9  46110.0               NaN\n",
       "12   54           5  36720.0               NaN\n",
       "13   51           4  34800.0               NaN\n",
       "14   44          12  51300.0               NaN\n",
       "15   41           6  38900.0               NaN\n",
       "16   58          17  63600.0               NaN\n",
       "17   23           1  30870.0               NaN\n",
       "18   44           9  44190.0               NaN\n",
       "19   37          10  48700.0               NaN\n",
       "20   47          12      NaN           52768.0\n",
       "21   50          20      NaN           70010.0\n",
       "22   28           7      NaN           43826.0\n",
       "23   19           2      NaN           33813.0"
      ]
     },
     "metadata": {},
     "output_type": "display_data"
    }
   ],
   "source": [
    "# Prédiction sur de nouvelles données :\n",
    "\n",
    "df_predictions = pd.DataFrame({\n",
    "    'age': [47, 50, 28, 19],\n",
    "    'experience': [12, 20, 7, 2]\n",
    "})\n",
    "\n",
    "new_predictions = model.predict(df_predictions) # Prédiction des revenus avec les nouvelles données\n",
    "\n",
    "df_predictions['predicted_income'] = new_predictions.round() # Affichage des prédictions\n",
    "\n",
    "df_new_income = pd.concat([df_income, df_predictions]) # Concaténation des dataframes\n",
    "df_new_income = df_new_income.reset_index().drop(columns='index') # Réinitialisation de l'index\n",
    "display(df_new_income) # Affichage de notre jeu de données ayant les observations réelles et les observation prédites"
   ]
  },
  {
   "cell_type": "markdown",
   "metadata": {},
   "source": [
    "Points à relever :\n",
    "- Les nouvelles données incluent des âges de 41, 50, 28, et 30 ans avec respectivement 10, 20, 7, et 3 années d'expérience. Le modèle de régression linéaire est utilisé pour prédire les revenus basés sur ces nouvelles données."
   ]
  },
  {
   "cell_type": "code",
   "execution_count": 95,
   "metadata": {},
   "outputs": [
    {
     "data": {
      "image/png": "[encoded data removed]",
      "text/plain": [
       "<Figure size 1800x600 with 2 Axes>"
      ]
     },
     "metadata": {},
     "output_type": "display_data"
    }
   ],
   "source": [
    "plt.figure(figsize=(18, 6)) # paramétrage de la taille de l'output\n",
    "\n",
    "# Premier sous-graphique montrant la relation entre les revenus prédits et l'expérience :\n",
    "\n",
    "plt.subplot(1, 3, 2)  \n",
    "sns.scatterplot(x=df_new_income['experience'], y=df_new_income['predicted_income'])\n",
    "sns.regplot(x=df_new_income['experience'], y=df_new_income['predicted_income'], scatter=False)\n",
    "plt.xlabel('Expérience')\n",
    "plt.ylabel('Revenus prédits')\n",
    "plt.title('Revenus prédits en fonction de l\\'expérience')\n",
    "\n",
    "# Deuxième sous-graphique montrant la distribution des revenus réels et des revenus prédits :\n",
    "\n",
    "plt.subplot(1, 3, 3)\n",
    "sns.histplot(df_new_income['income'], kde=True, bins=10, color='blue', label='Revenus réels', alpha=0.6)\n",
    "sns.histplot(df_new_income['predicted_income'], kde=True, bins=10, color='orange', label='Revenus prédits', alpha=0.6)\n",
    "plt.legend()\n",
    "plt.title('Distribution des revenus réels et prédits')\n",
    "\n",
    "plt.tight_layout()\n",
    "plt.show()"
   ]
  },
  {
   "cell_type": "markdown",
   "metadata": {},
   "source": [
    "Points à relever :\n",
    "- Malgré le fait que nous nous basons sur simplement quatres données prédites, il semble que le modèle est bien cohérent par rapport aux données des variables prédictrices !"
   ]
  },
  {
   "cell_type": "markdown",
   "metadata": {},
   "source": [
    "# Appliquer la régression linéaire sur des données plus complexe..."
   ]
  },
  {
   "cell_type": "markdown",
   "metadata": {},
   "source": [
    "### Forcément, les jeux de données sont rarement aussi simple !\n",
    "\n",
    "Dans la première partie de notre live coding, nous avons exploré un exemple de modèle de régression linéaire sur un jeu de données relativement simple, mettant en relation les revenus prédits avec des variables telles que l'expérience et l'âge. Cependant, dans le monde réel, les jeux de données sont rarement aussi simples. \n",
    "\n",
    "##### Souvent, ils sont beaucoup plus riches et complexes, composés de multiples types de variables.\n",
    "\n",
    "Dans cette deuxième partie, nous allons plonger dans un jeu de données plus complexe et plus riche. Nous explorerons un exemple de modèle de machine learning appliqué à un jeu de données comportant à la fois des données numériques et catégorielles.\n"
   ]
  },
  {
   "cell_type": "code",
   "execution_count": 96,
   "metadata": {},
   "outputs": [
    {
     "data": {
      "application/vnd.microsoft.datawrangler.viewer.v0+json": {
       "columns": [
        {
         "name": "index",
         "rawType": "int64",
         "type": "integer"
        },
        {
         "name": "Education",
         "rawType": "object",
         "type": "string"
        },
        {
         "name": "Experience",
         "rawType": "int64",
         "type": "integer"
        },
        {
         "name": "Location",
         "rawType": "object",
         "type": "string"
        },
        {
         "name": "Job_Title",
         "rawType": "object",
         "type": "string"
        },
        {
         "name": "Age",
         "rawType": "int64",
         "type": "integer"
        },
        {
         "name": "Gender",
         "rawType": "object",
         "type": "string"
        },
        {
         "name": "Salary",
         "rawType": "float64",
         "type": "float"
        }
       ],
       "conversionMethod": "pd.DataFrame",
       "ref": "a7c562fa-c051-4641-a0e8-5b6352d2a7bf",
       "rows": [
        [
         "0",
         "High School",
         "8",
         "Urban",
         "Manager",
         "63",
         "Male",
         "84620.05366451902"
        ],
        [
         "1",
         "PhD",
         "11",
         "Suburban",
         "Director",
         "59",
         "Male",
         "142591.2558943053"
        ],
        [
         "2",
         "Bachelor",
         "28",
         "Suburban",
         "Manager",
         "61",
         "Female",
         "97800.25540414132"
        ],
        [
         "3",
         "High School",
         "29",
         "Rural",
         "Director",
         "45",
         "Male",
         "96834.67128150172"
        ],
        [
         "4",
         "PhD",
         "25",
         "Urban",
         "Analyst",
         "26",
         "Female",
         "132157.78617465615"
        ],
        [
         "5",
         "PhD",
         "19",
         "Rural",
         "Director",
         "27",
         "Female",
         "156312.9362084037"
        ],
        [
         "6",
         "PhD",
         "4",
         "Rural",
         "Director",
         "60",
         "Female",
         "130567.64945544896"
        ],
        [
         "7",
         "PhD",
         "13",
         "Suburban",
         "Director",
         "49",
         "Female",
         "148707.74075900653"
        ],
        [
         "8",
         "Bachelor",
         "20",
         "Urban",
         "Engineer",
         "25",
         "Female",
         "95945.27542859328"
        ],
        [
         "9",
         "PhD",
         "14",
         "Urban",
         "Analyst",
         "58",
         "Female",
         "133339.3896823029"
        ],
        [
         "10",
         "Bachelor",
         "23",
         "Rural",
         "Manager",
         "23",
         "Female",
         "101164.09236529446"
        ],
        [
         "11",
         "Master",
         "1",
         "Urban",
         "Director",
         "27",
         "Female",
         "124251.98714687066"
        ],
        [
         "12",
         "High School",
         "11",
         "Urban",
         "Manager",
         "63",
         "Male",
         "55066.114352582896"
        ],
        [
         "13",
         "PhD",
         "4",
         "Rural",
         "Manager",
         "43",
         "Male",
         "124972.50876977788"
        ],
        [
         "14",
         "Master",
         "7",
         "Suburban",
         "Director",
         "44",
         "Female",
         "126139.13670110232"
        ],
        [
         "15",
         "High School",
         "28",
         "Suburban",
         "Engineer",
         "49",
         "Male",
         "81007.19945085408"
        ],
        [
         "16",
         "High School",
         "4",
         "Suburban",
         "Analyst",
         "37",
         "Male",
         "60693.924713925415"
        ],
        [
         "17",
         "High School",
         "26",
         "Rural",
         "Director",
         "63",
         "Male",
         "103386.0702899282"
        ],
        [
         "18",
         "Master",
         "7",
         "Urban",
         "Director",
         "53",
         "Female",
         "140042.13891849504"
        ],
        [
         "19",
         "Bachelor",
         "20",
         "Rural",
         "Analyst",
         "34",
         "Male",
         "86048.11608072282"
        ],
        [
         "20",
         "Master",
         "3",
         "Rural",
         "Engineer",
         "62",
         "Female",
         "73861.99295330019"
        ],
        [
         "21",
         "PhD",
         "19",
         "Suburban",
         "Analyst",
         "62",
         "Male",
         "106145.00551210355"
        ],
        [
         "22",
         "PhD",
         "19",
         "Urban",
         "Director",
         "36",
         "Female",
         "142981.59047925484"
        ],
        [
         "23",
         "Master",
         "7",
         "Suburban",
         "Analyst",
         "21",
         "Female",
         "96620.92938815863"
        ],
        [
         "24",
         "High School",
         "21",
         "Urban",
         "Manager",
         "62",
         "Female",
         "89426.94711719434"
        ],
        [
         "25",
         "Bachelor",
         "12",
         "Urban",
         "Manager",
         "20",
         "Male",
         "104762.39852019974"
        ],
        [
         "26",
         "Bachelor",
         "23",
         "Suburban",
         "Manager",
         "35",
         "Female",
         "101747.54077442826"
        ],
        [
         "27",
         "Bachelor",
         "1",
         "Suburban",
         "Engineer",
         "36",
         "Male",
         "68635.08828494251"
        ],
        [
         "28",
         "Bachelor",
         "5",
         "Rural",
         "Manager",
         "28",
         "Male",
         "90550.47942410434"
        ],
        [
         "29",
         "High School",
         "14",
         "Urban",
         "Analyst",
         "61",
         "Female",
         "75559.24411372501"
        ],
        [
         "30",
         "Bachelor",
         "10",
         "Urban",
         "Engineer",
         "40",
         "Female",
         "87433.49864519518"
        ],
        [
         "31",
         "High School",
         "3",
         "Urban",
         "Analyst",
         "63",
         "Female",
         "57615.23341761047"
        ],
        [
         "32",
         "PhD",
         "2",
         "Urban",
         "Engineer",
         "45",
         "Male",
         "126043.14343328992"
        ],
        [
         "33",
         "High School",
         "13",
         "Urban",
         "Analyst",
         "20",
         "Male",
         "73043.43575162995"
        ],
        [
         "34",
         "PhD",
         "16",
         "Rural",
         "Director",
         "59",
         "Male",
         "134560.1930040126"
        ],
        [
         "35",
         "Bachelor",
         "23",
         "Urban",
         "Engineer",
         "22",
         "Female",
         "95804.2614408205"
        ],
        [
         "36",
         "Master",
         "2",
         "Rural",
         "Director",
         "26",
         "Female",
         "99694.53954354613"
        ],
        [
         "37",
         "PhD",
         "24",
         "Suburban",
         "Director",
         "23",
         "Female",
         "153930.9338516317"
        ],
        [
         "38",
         "PhD",
         "13",
         "Rural",
         "Director",
         "50",
         "Male",
         "151123.33589341832"
        ],
        [
         "39",
         "High School",
         "6",
         "Rural",
         "Director",
         "33",
         "Female",
         "81462.71866943766"
        ],
        [
         "40",
         "Master",
         "7",
         "Rural",
         "Director",
         "40",
         "Male",
         "106019.0203963744"
        ],
        [
         "41",
         "PhD",
         "2",
         "Suburban",
         "Director",
         "31",
         "Female",
         "142122.66726825983"
        ],
        [
         "42",
         "High School",
         "11",
         "Urban",
         "Analyst",
         "31",
         "Male",
         "66858.43105342452"
        ],
        [
         "43",
         "Bachelor",
         "7",
         "Rural",
         "Manager",
         "25",
         "Female",
         "82060.7329291408"
        ],
        [
         "44",
         "PhD",
         "7",
         "Suburban",
         "Engineer",
         "36",
         "Female",
         "107935.40344896368"
        ],
        [
         "45",
         "Bachelor",
         "7",
         "Rural",
         "Analyst",
         "33",
         "Male",
         "70251.76628382233"
        ],
        [
         "46",
         "PhD",
         "7",
         "Rural",
         "Analyst",
         "28",
         "Female",
         "118799.44006115956"
        ],
        [
         "47",
         "PhD",
         "12",
         "Suburban",
         "Analyst",
         "47",
         "Female",
         "100369.02351603874"
        ],
        [
         "48",
         "Master",
         "19",
         "Rural",
         "Analyst",
         "26",
         "Male",
         "100038.7680224855"
        ],
        [
         "49",
         "PhD",
         "22",
         "Rural",
         "Manager",
         "64",
         "Male",
         "164542.83698804962"
        ]
       ],
       "shape": {
        "columns": 7,
        "rows": 1000
       }
      },
      "text/html": [
       "<div>\n",
       "<style scoped>\n",
       "    .dataframe tbody tr th:only-of-type {\n",
       "        vertical-align: middle;\n",
       "    }\n",
       "\n",
       "    .dataframe tbody tr th {\n",
       "        vertical-align: top;\n",
       "    }\n",
       "\n",
       "    .dataframe thead th {\n",
       "        text-align: right;\n",
       "    }\n",
       "</style>\n",
       "<table border=\"1\" class=\"dataframe\">\n",
       "  <thead>\n",
       "    <tr style=\"text-align: right;\">\n",
       "      <th></th>\n",
       "      <th>Education</th>\n",
       "      <th>Experience</th>\n",
       "      <th>Location</th>\n",
       "      <th>Job_Title</th>\n",
       "      <th>Age</th>\n",
       "      <th>Gender</th>\n",
       "      <th>Salary</th>\n",
       "    </tr>\n",
       "  </thead>\n",
       "  <tbody>\n",
       "    <tr>\n",
       "      <th>0</th>\n",
       "      <td>High School</td>\n",
       "      <td>8</td>\n",
       "      <td>Urban</td>\n",
       "      <td>Manager</td>\n",
       "      <td>63</td>\n",
       "      <td>Male</td>\n",
       "      <td>84620.053665</td>\n",
       "    </tr>\n",
       "    <tr>\n",
       "      <th>1</th>\n",
       "      <td>PhD</td>\n",
       "      <td>11</td>\n",
       "      <td>Suburban</td>\n",
       "      <td>Director</td>\n",
       "      <td>59</td>\n",
       "      <td>Male</td>\n",
       "      <td>142591.255894</td>\n",
       "    </tr>\n",
       "    <tr>\n",
       "      <th>2</th>\n",
       "      <td>Bachelor</td>\n",
       "      <td>28</td>\n",
       "      <td>Suburban</td>\n",
       "      <td>Manager</td>\n",
       "      <td>61</td>\n",
       "      <td>Female</td>\n",
       "      <td>97800.255404</td>\n",
       "    </tr>\n",
       "    <tr>\n",
       "      <th>3</th>\n",
       "      <td>High School</td>\n",
       "      <td>29</td>\n",
       "      <td>Rural</td>\n",
       "      <td>Director</td>\n",
       "      <td>45</td>\n",
       "      <td>Male</td>\n",
       "      <td>96834.671282</td>\n",
       "    </tr>\n",
       "    <tr>\n",
       "      <th>4</th>\n",
       "      <td>PhD</td>\n",
       "      <td>25</td>\n",
       "      <td>Urban</td>\n",
       "      <td>Analyst</td>\n",
       "      <td>26</td>\n",
       "      <td>Female</td>\n",
       "      <td>132157.786175</td>\n",
       "    </tr>\n",
       "    <tr>\n",
       "      <th>...</th>\n",
       "      <td>...</td>\n",
       "      <td>...</td>\n",
       "      <td>...</td>\n",
       "      <td>...</td>\n",
       "      <td>...</td>\n",
       "      <td>...</td>\n",
       "      <td>...</td>\n",
       "    </tr>\n",
       "    <tr>\n",
       "      <th>995</th>\n",
       "      <td>High School</td>\n",
       "      <td>8</td>\n",
       "      <td>Suburban</td>\n",
       "      <td>Analyst</td>\n",
       "      <td>25</td>\n",
       "      <td>Female</td>\n",
       "      <td>64683.389864</td>\n",
       "    </tr>\n",
       "    <tr>\n",
       "      <th>996</th>\n",
       "      <td>High School</td>\n",
       "      <td>24</td>\n",
       "      <td>Urban</td>\n",
       "      <td>Engineer</td>\n",
       "      <td>30</td>\n",
       "      <td>Female</td>\n",
       "      <td>74468.205020</td>\n",
       "    </tr>\n",
       "    <tr>\n",
       "      <th>997</th>\n",
       "      <td>Master</td>\n",
       "      <td>18</td>\n",
       "      <td>Rural</td>\n",
       "      <td>Analyst</td>\n",
       "      <td>44</td>\n",
       "      <td>Male</td>\n",
       "      <td>98207.026024</td>\n",
       "    </tr>\n",
       "    <tr>\n",
       "      <th>998</th>\n",
       "      <td>Bachelor</td>\n",
       "      <td>27</td>\n",
       "      <td>Suburban</td>\n",
       "      <td>Director</td>\n",
       "      <td>31</td>\n",
       "      <td>Female</td>\n",
       "      <td>108544.922720</td>\n",
       "    </tr>\n",
       "    <tr>\n",
       "      <th>999</th>\n",
       "      <td>High School</td>\n",
       "      <td>25</td>\n",
       "      <td>Urban</td>\n",
       "      <td>Director</td>\n",
       "      <td>41</td>\n",
       "      <td>Female</td>\n",
       "      <td>71077.000066</td>\n",
       "    </tr>\n",
       "  </tbody>\n",
       "</table>\n",
       "<p>1000 rows × 7 columns</p>\n",
       "</div>"
      ],
      "text/plain": [
       "       Education  Experience  Location Job_Title  Age  Gender         Salary\n",
       "0    High School           8     Urban   Manager   63    Male   84620.053665\n",
       "1            PhD          11  Suburban  Director   59    Male  142591.255894\n",
       "2       Bachelor          28  Suburban   Manager   61  Female   97800.255404\n",
       "3    High School          29     Rural  Director   45    Male   96834.671282\n",
       "4            PhD          25     Urban   Analyst   26  Female  132157.786175\n",
       "..           ...         ...       ...       ...  ...     ...            ...\n",
       "995  High School           8  Suburban   Analyst   25  Female   64683.389864\n",
       "996  High School          24     Urban  Engineer   30  Female   74468.205020\n",
       "997       Master          18     Rural   Analyst   44    Male   98207.026024\n",
       "998     Bachelor          27  Suburban  Director   31  Female  108544.922720\n",
       "999  High School          25     Urban  Director   41  Female   71077.000066\n",
       "\n",
       "[1000 rows x 7 columns]"
      ]
     },
     "metadata": {},
     "output_type": "display_data"
    }
   ],
   "source": [
    "df_salary = pd.read_csv('../datasets/salary_prediction_data.csv')\n",
    "display(df_salary)"
   ]
  },
  {
   "cell_type": "markdown",
   "metadata": {},
   "source": [
    "### Traitement de la donnée avant d'initialiser le modèle :"
   ]
  },
  {
   "cell_type": "code",
   "execution_count": 97,
   "metadata": {},
   "outputs": [
    {
     "data": {
      "text/plain": [
       "Education      object\n",
       "Experience      int64\n",
       "Location       object\n",
       "Job_Title      object\n",
       "Age             int64\n",
       "Gender         object\n",
       "Salary        float64\n",
       "dtype: object"
      ]
     },
     "execution_count": 97,
     "metadata": {},
     "output_type": "execute_result"
    }
   ],
   "source": [
    "df_salary.dtypes"
   ]
  },
  {
   "cell_type": "markdown",
   "metadata": {},
   "source": [
    "Points à relever :\n",
    "- On ne traite pas les données numériques de la même façon que les données catégorielles. Ici, nos variables ont le bon type de donnée."
   ]
  },
  {
   "cell_type": "code",
   "execution_count": 98,
   "metadata": {},
   "outputs": [
    {
     "data": {
      "text/plain": [
       "Education     0\n",
       "Experience    0\n",
       "Location      0\n",
       "Job_Title     0\n",
       "Age           0\n",
       "Gender        0\n",
       "Salary        0\n",
       "dtype: int64"
      ]
     },
     "execution_count": 98,
     "metadata": {},
     "output_type": "execute_result"
    }
   ],
   "source": [
    "df_salary.isna().sum()"
   ]
  },
  {
   "cell_type": "markdown",
   "metadata": {},
   "source": [
    "Points à relever :\n",
    "- Il est essentiel d'enlever les valeurs manquantes avant d'initialiser un modèle de Machine Learning."
   ]
  },
  {
   "cell_type": "markdown",
   "metadata": {},
   "source": [
    "### Visualisation les variables de notre jeu de données :"
   ]
  },
  {
   "cell_type": "code",
   "execution_count": 99,
   "metadata": {},
   "outputs": [
    {
     "data": {
      "text/plain": [
       "<seaborn.axisgrid.PairGrid at 0x1c7b9567550>"
      ]
     },
     "execution_count": 99,
     "metadata": {},
     "output_type": "execute_result"
    },
    {
     "data": {
      "image/png": "[encoded data removed]",
      "text/plain": [
       "<Figure size 750x750 with 12 Axes>"
      ]
     },
     "metadata": {},
     "output_type": "display_data"
    }
   ],
   "source": [
    "sns.pairplot(df_salary)"
   ]
  },
  {
   "cell_type": "markdown",
   "metadata": {},
   "source": [
    "Points à relever :\n",
    "- Nous constatons que nos variables prédictrices ne suivent pas une distribution normale, nous favoriserons donc le normalisateur : 'MinMaxScaler()' pour elles.\n",
    "\n",
    "- Également, la relation entre nos features par rapport a notre target est difficile à déterminer. Cela reflète bien la réalité du marché et des salaires !"
   ]
  },
  {
   "cell_type": "markdown",
   "metadata": {},
   "source": [
    "### Division de notre jeu de données :"
   ]
  },
  {
   "cell_type": "code",
   "execution_count": 100,
   "metadata": {},
   "outputs": [
    {
     "name": "stdout",
     "output_type": "stream",
     "text": [
      "Taille de X_train: (800, 6), taille de X_test: (200, 6), taille de y_train: (800,), taille de y_test: (200,)\n"
     ]
    }
   ],
   "source": [
    "features = ['Education', 'Experience' ,'Location', 'Job_Title', 'Age', 'Gender']\n",
    "target = 'Salary'\n",
    "\n",
    "X = df_salary[features] \n",
    "y = df_salary[target] \n",
    "\n",
    "X_train, X_test, y_train, y_test = train_test_split(X, y, test_size=0.2, random_state=42) \n",
    "\n",
    "print(f'Taille de X_train: {X_train.shape}, taille de X_test: {X_test.shape}, taille de y_train: {y_train.shape}, taille de y_test: {y_test.shape}')"
   ]
  },
  {
   "cell_type": "markdown",
   "metadata": {},
   "source": [
    "Points à relever :\n",
    "- Nous remarquons la bonne répartition de nos données dans nos quatres nouveaux objets."
   ]
  },
  {
   "cell_type": "markdown",
   "metadata": {},
   "source": [
    "### Commençons par traiter nos données numériques :"
   ]
  },
  {
   "cell_type": "code",
   "execution_count": 101,
   "metadata": {},
   "outputs": [
    {
     "data": {
      "application/vnd.microsoft.datawrangler.viewer.v0+json": {
       "columns": [
        {
         "name": "index",
         "rawType": "int64",
         "type": "integer"
        },
        {
         "name": "Experience",
         "rawType": "int64",
         "type": "integer"
        },
        {
         "name": "Age",
         "rawType": "int64",
         "type": "integer"
        }
       ],
       "conversionMethod": "pd.DataFrame",
       "ref": "0b9bc237-dbb8-41bd-b526-d57b17afa722",
       "rows": [
        [
         "521",
         "13",
         "57"
        ],
        [
         "737",
         "6",
         "59"
        ],
        [
         "740",
         "16",
         "61"
        ],
        [
         "660",
         "5",
         "26"
        ],
        [
         "411",
         "26",
         "27"
        ],
        [
         "678",
         "3",
         "21"
        ],
        [
         "626",
         "1",
         "59"
        ],
        [
         "513",
         "9",
         "61"
        ],
        [
         "859",
         "23",
         "44"
        ],
        [
         "136",
         "7",
         "32"
        ],
        [
         "811",
         "23",
         "34"
        ],
        [
         "76",
         "22",
         "56"
        ],
        [
         "636",
         "29",
         "64"
        ],
        [
         "973",
         "1",
         "56"
        ],
        [
         "938",
         "16",
         "47"
        ],
        [
         "899",
         "6",
         "55"
        ],
        [
         "280",
         "18",
         "64"
        ],
        [
         "883",
         "17",
         "44"
        ],
        [
         "761",
         "29",
         "20"
        ],
        [
         "319",
         "14",
         "55"
        ],
        [
         "549",
         "20",
         "41"
        ],
        [
         "174",
         "12",
         "30"
        ],
        [
         "371",
         "6",
         "50"
        ],
        [
         "527",
         "28",
         "36"
        ],
        [
         "210",
         "25",
         "62"
        ],
        [
         "235",
         "15",
         "60"
        ],
        [
         "101",
         "20",
         "22"
        ],
        [
         "986",
         "16",
         "42"
        ],
        [
         "902",
         "24",
         "40"
        ],
        [
         "947",
         "26",
         "38"
        ],
        [
         "346",
         "26",
         "36"
        ],
        [
         "139",
         "5",
         "61"
        ],
        [
         "621",
         "6",
         "62"
        ],
        [
         "499",
         "27",
         "46"
        ],
        [
         "370",
         "4",
         "45"
        ],
        [
         "198",
         "27",
         "46"
        ],
        [
         "687",
         "18",
         "35"
        ],
        [
         "584",
         "27",
         "43"
        ],
        [
         "901",
         "11",
         "32"
        ],
        [
         "59",
         "21",
         "49"
        ],
        [
         "328",
         "27",
         "62"
        ],
        [
         "96",
         "8",
         "49"
        ],
        [
         "312",
         "15",
         "57"
        ],
        [
         "974",
         "25",
         "44"
        ],
        [
         "299",
         "18",
         "51"
        ],
        [
         "277",
         "10",
         "64"
        ],
        [
         "924",
         "22",
         "36"
        ],
        [
         "601",
         "21",
         "64"
        ],
        [
         "439",
         "16",
         "20"
        ],
        [
         "837",
         "11",
         "45"
        ]
       ],
       "shape": {
        "columns": 2,
        "rows": 200
       }
      },
      "text/html": [
       "<div>\n",
       "<style scoped>\n",
       "    .dataframe tbody tr th:only-of-type {\n",
       "        vertical-align: middle;\n",
       "    }\n",
       "\n",
       "    .dataframe tbody tr th {\n",
       "        vertical-align: top;\n",
       "    }\n",
       "\n",
       "    .dataframe thead th {\n",
       "        text-align: right;\n",
       "    }\n",
       "</style>\n",
       "<table border=\"1\" class=\"dataframe\">\n",
       "  <thead>\n",
       "    <tr style=\"text-align: right;\">\n",
       "      <th></th>\n",
       "      <th>Experience</th>\n",
       "      <th>Age</th>\n",
       "    </tr>\n",
       "  </thead>\n",
       "  <tbody>\n",
       "    <tr>\n",
       "      <th>521</th>\n",
       "      <td>13</td>\n",
       "      <td>57</td>\n",
       "    </tr>\n",
       "    <tr>\n",
       "      <th>737</th>\n",
       "      <td>6</td>\n",
       "      <td>59</td>\n",
       "    </tr>\n",
       "    <tr>\n",
       "      <th>740</th>\n",
       "      <td>16</td>\n",
       "      <td>61</td>\n",
       "    </tr>\n",
       "    <tr>\n",
       "      <th>660</th>\n",
       "      <td>5</td>\n",
       "      <td>26</td>\n",
       "    </tr>\n",
       "    <tr>\n",
       "      <th>411</th>\n",
       "      <td>26</td>\n",
       "      <td>27</td>\n",
       "    </tr>\n",
       "    <tr>\n",
       "      <th>...</th>\n",
       "      <td>...</td>\n",
       "      <td>...</td>\n",
       "    </tr>\n",
       "    <tr>\n",
       "      <th>408</th>\n",
       "      <td>2</td>\n",
       "      <td>22</td>\n",
       "    </tr>\n",
       "    <tr>\n",
       "      <th>332</th>\n",
       "      <td>27</td>\n",
       "      <td>58</td>\n",
       "    </tr>\n",
       "    <tr>\n",
       "      <th>208</th>\n",
       "      <td>15</td>\n",
       "      <td>54</td>\n",
       "    </tr>\n",
       "    <tr>\n",
       "      <th>613</th>\n",
       "      <td>24</td>\n",
       "      <td>63</td>\n",
       "    </tr>\n",
       "    <tr>\n",
       "      <th>78</th>\n",
       "      <td>5</td>\n",
       "      <td>26</td>\n",
       "    </tr>\n",
       "  </tbody>\n",
       "</table>\n",
       "<p>200 rows × 2 columns</p>\n",
       "</div>"
      ],
      "text/plain": [
       "     Experience  Age\n",
       "521          13   57\n",
       "737           6   59\n",
       "740          16   61\n",
       "660           5   26\n",
       "411          26   27\n",
       "..          ...  ...\n",
       "408           2   22\n",
       "332          27   58\n",
       "208          15   54\n",
       "613          24   63\n",
       "78            5   26\n",
       "\n",
       "[200 rows x 2 columns]"
      ]
     },
     "metadata": {},
     "output_type": "display_data"
    },
    {
     "data": {
      "application/vnd.microsoft.datawrangler.viewer.v0+json": {
       "columns": [
        {
         "name": "index",
         "rawType": "int64",
         "type": "integer"
        },
        {
         "name": "Experience",
         "rawType": "float64",
         "type": "float"
        },
        {
         "name": "Age",
         "rawType": "float64",
         "type": "float"
        }
       ],
       "conversionMethod": "pd.DataFrame",
       "ref": "4d663a99-f056-4d1e-9b73-8019a5cc5c4d",
       "rows": [
        [
         "521",
         "0.42857142857142855",
         "0.8409090909090908"
        ],
        [
         "737",
         "0.17857142857142855",
         "0.8863636363636365"
        ],
        [
         "740",
         "0.5357142857142857",
         "0.9318181818181819"
        ],
        [
         "660",
         "0.14285714285714285",
         "0.13636363636363635"
        ],
        [
         "411",
         "0.8928571428571428",
         "0.15909090909090906"
        ],
        [
         "678",
         "0.07142857142857142",
         "0.022727272727272707"
        ],
        [
         "626",
         "0.0",
         "0.8863636363636365"
        ],
        [
         "513",
         "0.2857142857142857",
         "0.9318181818181819"
        ],
        [
         "859",
         "0.7857142857142857",
         "0.5454545454545454"
        ],
        [
         "136",
         "0.2142857142857143",
         "0.2727272727272727"
        ],
        [
         "811",
         "0.7857142857142857",
         "0.3181818181818181"
        ],
        [
         "76",
         "0.75",
         "0.8181818181818181"
        ],
        [
         "636",
         "0.9999999999999999",
         "1.0"
        ],
        [
         "973",
         "0.0",
         "0.8181818181818181"
        ],
        [
         "938",
         "0.5357142857142857",
         "0.6136363636363635"
        ],
        [
         "899",
         "0.17857142857142855",
         "0.7954545454545454"
        ],
        [
         "280",
         "0.6071428571428571",
         "1.0"
        ],
        [
         "883",
         "0.5714285714285714",
         "0.5454545454545454"
        ],
        [
         "761",
         "0.9999999999999999",
         "0.0"
        ],
        [
         "319",
         "0.4642857142857143",
         "0.7954545454545454"
        ],
        [
         "549",
         "0.6785714285714285",
         "0.4772727272727273"
        ],
        [
         "174",
         "0.39285714285714285",
         "0.2272727272727273"
        ],
        [
         "371",
         "0.17857142857142855",
         "0.6818181818181819"
        ],
        [
         "527",
         "0.9642857142857143",
         "0.36363636363636365"
        ],
        [
         "210",
         "0.8571428571428571",
         "0.9545454545454546"
        ],
        [
         "235",
         "0.5",
         "0.9090909090909092"
        ],
        [
         "101",
         "0.6785714285714285",
         "0.045454545454545414"
        ],
        [
         "986",
         "0.5357142857142857",
         "0.5"
        ],
        [
         "902",
         "0.8214285714285714",
         "0.4545454545454546"
        ],
        [
         "947",
         "0.8928571428571428",
         "0.40909090909090906"
        ],
        [
         "346",
         "0.8928571428571428",
         "0.36363636363636365"
        ],
        [
         "139",
         "0.14285714285714285",
         "0.9318181818181819"
        ],
        [
         "621",
         "0.17857142857142855",
         "0.9545454545454546"
        ],
        [
         "499",
         "0.9285714285714285",
         "0.5909090909090908"
        ],
        [
         "370",
         "0.10714285714285714",
         "0.5681818181818181"
        ],
        [
         "198",
         "0.9285714285714285",
         "0.5909090909090908"
        ],
        [
         "687",
         "0.6071428571428571",
         "0.34090909090909094"
        ],
        [
         "584",
         "0.9285714285714285",
         "0.5227272727272727"
        ],
        [
         "901",
         "0.35714285714285715",
         "0.2727272727272727"
        ],
        [
         "59",
         "0.7142857142857143",
         "0.6590909090909092"
        ],
        [
         "328",
         "0.9285714285714285",
         "0.9545454545454546"
        ],
        [
         "96",
         "0.25",
         "0.6590909090909092"
        ],
        [
         "312",
         "0.5",
         "0.8409090909090908"
        ],
        [
         "974",
         "0.8571428571428571",
         "0.5454545454545454"
        ],
        [
         "299",
         "0.6071428571428571",
         "0.7045454545454546"
        ],
        [
         "277",
         "0.3214285714285714",
         "1.0"
        ],
        [
         "924",
         "0.75",
         "0.36363636363636365"
        ],
        [
         "601",
         "0.7142857142857143",
         "1.0"
        ],
        [
         "439",
         "0.5357142857142857",
         "0.0"
        ],
        [
         "837",
         "0.35714285714285715",
         "0.5681818181818181"
        ]
       ],
       "shape": {
        "columns": 2,
        "rows": 200
       }
      },
      "text/html": [
       "<div>\n",
       "<style scoped>\n",
       "    .dataframe tbody tr th:only-of-type {\n",
       "        vertical-align: middle;\n",
       "    }\n",
       "\n",
       "    .dataframe tbody tr th {\n",
       "        vertical-align: top;\n",
       "    }\n",
       "\n",
       "    .dataframe thead th {\n",
       "        text-align: right;\n",
       "    }\n",
       "</style>\n",
       "<table border=\"1\" class=\"dataframe\">\n",
       "  <thead>\n",
       "    <tr style=\"text-align: right;\">\n",
       "      <th></th>\n",
       "      <th>Experience</th>\n",
       "      <th>Age</th>\n",
       "    </tr>\n",
       "  </thead>\n",
       "  <tbody>\n",
       "    <tr>\n",
       "      <th>521</th>\n",
       "      <td>0.428571</td>\n",
       "      <td>0.840909</td>\n",
       "    </tr>\n",
       "    <tr>\n",
       "      <th>737</th>\n",
       "      <td>0.178571</td>\n",
       "      <td>0.886364</td>\n",
       "    </tr>\n",
       "    <tr>\n",
       "      <th>740</th>\n",
       "      <td>0.535714</td>\n",
       "      <td>0.931818</td>\n",
       "    </tr>\n",
       "    <tr>\n",
       "      <th>660</th>\n",
       "      <td>0.142857</td>\n",
       "      <td>0.136364</td>\n",
       "    </tr>\n",
       "    <tr>\n",
       "      <th>411</th>\n",
       "      <td>0.892857</td>\n",
       "      <td>0.159091</td>\n",
       "    </tr>\n",
       "    <tr>\n",
       "      <th>...</th>\n",
       "      <td>...</td>\n",
       "      <td>...</td>\n",
       "    </tr>\n",
       "    <tr>\n",
       "      <th>408</th>\n",
       "      <td>0.035714</td>\n",
       "      <td>0.045455</td>\n",
       "    </tr>\n",
       "    <tr>\n",
       "      <th>332</th>\n",
       "      <td>0.928571</td>\n",
       "      <td>0.863636</td>\n",
       "    </tr>\n",
       "    <tr>\n",
       "      <th>208</th>\n",
       "      <td>0.500000</td>\n",
       "      <td>0.772727</td>\n",
       "    </tr>\n",
       "    <tr>\n",
       "      <th>613</th>\n",
       "      <td>0.821429</td>\n",
       "      <td>0.977273</td>\n",
       "    </tr>\n",
       "    <tr>\n",
       "      <th>78</th>\n",
       "      <td>0.142857</td>\n",
       "      <td>0.136364</td>\n",
       "    </tr>\n",
       "  </tbody>\n",
       "</table>\n",
       "<p>200 rows × 2 columns</p>\n",
       "</div>"
      ],
      "text/plain": [
       "     Experience       Age\n",
       "521    0.428571  0.840909\n",
       "737    0.178571  0.886364\n",
       "740    0.535714  0.931818\n",
       "660    0.142857  0.136364\n",
       "411    0.892857  0.159091\n",
       "..          ...       ...\n",
       "408    0.035714  0.045455\n",
       "332    0.928571  0.863636\n",
       "208    0.500000  0.772727\n",
       "613    0.821429  0.977273\n",
       "78     0.142857  0.136364\n",
       "\n",
       "[200 rows x 2 columns]"
      ]
     },
     "metadata": {},
     "output_type": "display_data"
    }
   ],
   "source": [
    "df_salary.select_dtypes(include='number')\n",
    "\n",
    "mmscaler = MinMaxScaler() # Création d'un objet MinMaxScaler\n",
    "cols_to_nor = ['Experience', 'Age'] # Appliquer la normalisation sur ces colonnes\n",
    "\n",
    "# Normalisation de nos features avec le MinMaxScaler : \n",
    "\n",
    "X_train_nor = pd.DataFrame(mmscaler.fit_transform(X_train[cols_to_nor]), columns=cols_to_nor, index=X_train.index) # Appliquer le scaler sur l'ensemble de train\n",
    "X_test_nor = pd.DataFrame(mmscaler.transform(X_test[cols_to_nor]), columns=cols_to_nor, index=X_test.index) # Appliquer le scaler à l'ensemble de test\n",
    "display(X_test[cols_to_nor])\n",
    "display(X_test_nor)"
   ]
  },
  {
   "cell_type": "markdown",
   "metadata": {},
   "source": [
    "Points à relever :\n",
    "- Ici, la normalisation des données nous à permis de mettre nos données à niveau pour éviter que notre modèle attribut un poid trop grand sur la variable 'Age'."
   ]
  },
  {
   "cell_type": "markdown",
   "metadata": {},
   "source": [
    "### Traitement de nos variables catégorielles :"
   ]
  },
  {
   "cell_type": "code",
   "execution_count": 112,
   "metadata": {},
   "outputs": [
    {
     "data": {
      "application/vnd.microsoft.datawrangler.viewer.v0+json": {
       "columns": [
        {
         "name": "index",
         "rawType": "int64",
         "type": "integer"
        },
        {
         "name": "Education",
         "rawType": "object",
         "type": "string"
        },
        {
         "name": "Location",
         "rawType": "object",
         "type": "string"
        },
        {
         "name": "Job_Title",
         "rawType": "object",
         "type": "string"
        },
        {
         "name": "Gender",
         "rawType": "object",
         "type": "string"
        }
       ],
       "conversionMethod": "pd.DataFrame",
       "ref": "5d148114-f919-4d96-bfc9-cdeb5ea33153",
       "rows": [
        [
         "0",
         "High School",
         "Urban",
         "Manager",
         "Male"
        ],
        [
         "1",
         "PhD",
         "Suburban",
         "Director",
         "Male"
        ],
        [
         "2",
         "Bachelor",
         "Suburban",
         "Manager",
         "Female"
        ],
        [
         "3",
         "High School",
         "Rural",
         "Director",
         "Male"
        ],
        [
         "4",
         "PhD",
         "Urban",
         "Analyst",
         "Female"
        ],
        [
         "5",
         "PhD",
         "Rural",
         "Director",
         "Female"
        ],
        [
         "6",
         "PhD",
         "Rural",
         "Director",
         "Female"
        ],
        [
         "7",
         "PhD",
         "Suburban",
         "Director",
         "Female"
        ],
        [
         "8",
         "Bachelor",
         "Urban",
         "Engineer",
         "Female"
        ],
        [
         "9",
         "PhD",
         "Urban",
         "Analyst",
         "Female"
        ],
        [
         "10",
         "Bachelor",
         "Rural",
         "Manager",
         "Female"
        ],
        [
         "11",
         "Master",
         "Urban",
         "Director",
         "Female"
        ],
        [
         "12",
         "High School",
         "Urban",
         "Manager",
         "Male"
        ],
        [
         "13",
         "PhD",
         "Rural",
         "Manager",
         "Male"
        ],
        [
         "14",
         "Master",
         "Suburban",
         "Director",
         "Female"
        ],
        [
         "15",
         "High School",
         "Suburban",
         "Engineer",
         "Male"
        ],
        [
         "16",
         "High School",
         "Suburban",
         "Analyst",
         "Male"
        ],
        [
         "17",
         "High School",
         "Rural",
         "Director",
         "Male"
        ],
        [
         "18",
         "Master",
         "Urban",
         "Director",
         "Female"
        ],
        [
         "19",
         "Bachelor",
         "Rural",
         "Analyst",
         "Male"
        ],
        [
         "20",
         "Master",
         "Rural",
         "Engineer",
         "Female"
        ],
        [
         "21",
         "PhD",
         "Suburban",
         "Analyst",
         "Male"
        ],
        [
         "22",
         "PhD",
         "Urban",
         "Director",
         "Female"
        ],
        [
         "23",
         "Master",
         "Suburban",
         "Analyst",
         "Female"
        ],
        [
         "24",
         "High School",
         "Urban",
         "Manager",
         "Female"
        ],
        [
         "25",
         "Bachelor",
         "Urban",
         "Manager",
         "Male"
        ],
        [
         "26",
         "Bachelor",
         "Suburban",
         "Manager",
         "Female"
        ],
        [
         "27",
         "Bachelor",
         "Suburban",
         "Engineer",
         "Male"
        ],
        [
         "28",
         "Bachelor",
         "Rural",
         "Manager",
         "Male"
        ],
        [
         "29",
         "High School",
         "Urban",
         "Analyst",
         "Female"
        ],
        [
         "30",
         "Bachelor",
         "Urban",
         "Engineer",
         "Female"
        ],
        [
         "31",
         "High School",
         "Urban",
         "Analyst",
         "Female"
        ],
        [
         "32",
         "PhD",
         "Urban",
         "Engineer",
         "Male"
        ],
        [
         "33",
         "High School",
         "Urban",
         "Analyst",
         "Male"
        ],
        [
         "34",
         "PhD",
         "Rural",
         "Director",
         "Male"
        ],
        [
         "35",
         "Bachelor",
         "Urban",
         "Engineer",
         "Female"
        ],
        [
         "36",
         "Master",
         "Rural",
         "Director",
         "Female"
        ],
        [
         "37",
         "PhD",
         "Suburban",
         "Director",
         "Female"
        ],
        [
         "38",
         "PhD",
         "Rural",
         "Director",
         "Male"
        ],
        [
         "39",
         "High School",
         "Rural",
         "Director",
         "Female"
        ],
        [
         "40",
         "Master",
         "Rural",
         "Director",
         "Male"
        ],
        [
         "41",
         "PhD",
         "Suburban",
         "Director",
         "Female"
        ],
        [
         "42",
         "High School",
         "Urban",
         "Analyst",
         "Male"
        ],
        [
         "43",
         "Bachelor",
         "Rural",
         "Manager",
         "Female"
        ],
        [
         "44",
         "PhD",
         "Suburban",
         "Engineer",
         "Female"
        ],
        [
         "45",
         "Bachelor",
         "Rural",
         "Analyst",
         "Male"
        ],
        [
         "46",
         "PhD",
         "Rural",
         "Analyst",
         "Female"
        ],
        [
         "47",
         "PhD",
         "Suburban",
         "Analyst",
         "Female"
        ],
        [
         "48",
         "Master",
         "Rural",
         "Analyst",
         "Male"
        ],
        [
         "49",
         "PhD",
         "Rural",
         "Manager",
         "Male"
        ]
       ],
       "shape": {
        "columns": 4,
        "rows": 1000
       }
      },
      "text/html": [
       "<div>\n",
       "<style scoped>\n",
       "    .dataframe tbody tr th:only-of-type {\n",
       "        vertical-align: middle;\n",
       "    }\n",
       "\n",
       "    .dataframe tbody tr th {\n",
       "        vertical-align: top;\n",
       "    }\n",
       "\n",
       "    .dataframe thead th {\n",
       "        text-align: right;\n",
       "    }\n",
       "</style>\n",
       "<table border=\"1\" class=\"dataframe\">\n",
       "  <thead>\n",
       "    <tr style=\"text-align: right;\">\n",
       "      <th></th>\n",
       "      <th>Education</th>\n",
       "      <th>Location</th>\n",
       "      <th>Job_Title</th>\n",
       "      <th>Gender</th>\n",
       "    </tr>\n",
       "  </thead>\n",
       "  <tbody>\n",
       "    <tr>\n",
       "      <th>0</th>\n",
       "      <td>High School</td>\n",
       "      <td>Urban</td>\n",
       "      <td>Manager</td>\n",
       "      <td>Male</td>\n",
       "    </tr>\n",
       "    <tr>\n",
       "      <th>1</th>\n",
       "      <td>PhD</td>\n",
       "      <td>Suburban</td>\n",
       "      <td>Director</td>\n",
       "      <td>Male</td>\n",
       "    </tr>\n",
       "    <tr>\n",
       "      <th>2</th>\n",
       "      <td>Bachelor</td>\n",
       "      <td>Suburban</td>\n",
       "      <td>Manager</td>\n",
       "      <td>Female</td>\n",
       "    </tr>\n",
       "    <tr>\n",
       "      <th>3</th>\n",
       "      <td>High School</td>\n",
       "      <td>Rural</td>\n",
       "      <td>Director</td>\n",
       "      <td>Male</td>\n",
       "    </tr>\n",
       "    <tr>\n",
       "      <th>4</th>\n",
       "      <td>PhD</td>\n",
       "      <td>Urban</td>\n",
       "      <td>Analyst</td>\n",
       "      <td>Female</td>\n",
       "    </tr>\n",
       "    <tr>\n",
       "      <th>...</th>\n",
       "      <td>...</td>\n",
       "      <td>...</td>\n",
       "      <td>...</td>\n",
       "      <td>...</td>\n",
       "    </tr>\n",
       "    <tr>\n",
       "      <th>995</th>\n",
       "      <td>High School</td>\n",
       "      <td>Suburban</td>\n",
       "      <td>Analyst</td>\n",
       "      <td>Female</td>\n",
       "    </tr>\n",
       "    <tr>\n",
       "      <th>996</th>\n",
       "      <td>High School</td>\n",
       "      <td>Urban</td>\n",
       "      <td>Engineer</td>\n",
       "      <td>Female</td>\n",
       "    </tr>\n",
       "    <tr>\n",
       "      <th>997</th>\n",
       "      <td>Master</td>\n",
       "      <td>Rural</td>\n",
       "      <td>Analyst</td>\n",
       "      <td>Male</td>\n",
       "    </tr>\n",
       "    <tr>\n",
       "      <th>998</th>\n",
       "      <td>Bachelor</td>\n",
       "      <td>Suburban</td>\n",
       "      <td>Director</td>\n",
       "      <td>Female</td>\n",
       "    </tr>\n",
       "    <tr>\n",
       "      <th>999</th>\n",
       "      <td>High School</td>\n",
       "      <td>Urban</td>\n",
       "      <td>Director</td>\n",
       "      <td>Female</td>\n",
       "    </tr>\n",
       "  </tbody>\n",
       "</table>\n",
       "<p>1000 rows × 4 columns</p>\n",
       "</div>"
      ],
      "text/plain": [
       "       Education  Location Job_Title  Gender\n",
       "0    High School     Urban   Manager    Male\n",
       "1            PhD  Suburban  Director    Male\n",
       "2       Bachelor  Suburban   Manager  Female\n",
       "3    High School     Rural  Director    Male\n",
       "4            PhD     Urban   Analyst  Female\n",
       "..           ...       ...       ...     ...\n",
       "995  High School  Suburban   Analyst  Female\n",
       "996  High School     Urban  Engineer  Female\n",
       "997       Master     Rural   Analyst    Male\n",
       "998     Bachelor  Suburban  Director  Female\n",
       "999  High School     Urban  Director  Female\n",
       "\n",
       "[1000 rows x 4 columns]"
      ]
     },
     "metadata": {},
     "output_type": "display_data"
    },
    {
     "name": "stdout",
     "output_type": "stream",
     "text": [
      "Nombre de catégories différentes dans la variable genre : 2.\n",
      "Nombre de catégories différentes dans la variable métier : 4.\n",
      "Nombre de catégories différentes dans la variable zone : 3.\n",
      "Nombre de catégories différentes dans la variable niveau d'éducation : 4.\n"
     ]
    }
   ],
   "source": [
    "display(df_salary.select_dtypes(include='O'))\n",
    "\n",
    "print(f\"Nombre de catégories différentes dans la variable genre : {df_salary['Gender'].nunique()}.\")\n",
    "print(f\"Nombre de catégories différentes dans la variable métier : {df_salary['Job_Title'].nunique()}.\")\n",
    "print(f\"Nombre de catégories différentes dans la variable zone : {df_salary['Location'].nunique()}.\")\n",
    "print(f\"Nombre de catégories différentes dans la variable niveau d\\'éducation : {df_salary['Education'].nunique()}.\")"
   ]
  },
  {
   "cell_type": "markdown",
   "metadata": {},
   "source": [
    "Points à relever : \n",
    "- Nous constatons qu'il n'y a pas beaucoup de catégorie sur nos variables, dans le cas contraire, il est judicieux de venir sélectionner les valeurs les plus représentés de nos variables pour éviter des problèmes de dimensionnalité dans notre modèle."
   ]
  },
  {
   "cell_type": "code",
   "execution_count": null,
   "metadata": {},
   "outputs": [],
   "source": [
    "# La méthode pandas .get_dummies() nous permet d'encoder nos variables catégorielles :\n",
    "\n",
    "X_train_enc = pd.get_dummies(X_train.select_dtypes(include='O'), columns=['Gender', 'Job_Title', 'Location', 'Education'], drop_first=True).astype(int)\n",
    "X_test_enc = pd.get_dummies(X_test.select_dtypes(include='O'), columns=['Gender', 'Job_Title', 'Location', 'Education'], drop_first=True).astype(int)\n",
    "display(X_test_enc)"
   ]
  },
  {
   "cell_type": "markdown",
   "metadata": {},
   "source": [
    "Points à relever :\n",
    "- Nous constatons que le code n'a pas générer une nouvelle colonnes pour les premières catégories de nos variables, cela s'explique par le paramètre 'drop_first'. En effet, ce paramètre supprime intentionnellement la première catégorie de chaque variable catégorielle pour éviter la multicolinéarité.\n",
    "\n",
    "- Ainsi, si Gender_Male est 0, cela indique implicitement que le genre est Female."
   ]
  },
  {
   "cell_type": "markdown",
   "metadata": {},
   "source": [
    "### Fusions de nos DataFrames normalisés et encodés :"
   ]
  },
  {
   "cell_type": "code",
   "execution_count": null,
   "metadata": {},
   "outputs": [],
   "source": [
    "# Fusion des jeux de données pour nourrir notre modèle de régression :\n",
    "\n",
    "X_train_clean = pd.merge(X_train_enc, X_train_nor, left_index=True, right_index=True)\n",
    "X_test_clean = pd.merge(X_test_enc, X_test_nor, left_index=True, right_index=True)\n",
    "display(X_test_clean)"
   ]
  },
  {
   "cell_type": "code",
   "execution_count": null,
   "metadata": {},
   "outputs": [],
   "source": [
    "# Ajouter la variable target aux ensembles d'entraînement et de test :\n",
    "\n",
    "df_train_clean = pd.merge(X_train_clean, y_train, left_index=True, right_index=True)\n",
    "df_test_clean = pd.merge(X_test_clean, y_test, left_index=True, right_index=True)\n",
    "display(df_test_clean)"
   ]
  },
  {
   "cell_type": "markdown",
   "metadata": {},
   "source": [
    "Point à relever :\n",
    "- Nous remarquons que nos données normalisées, nos données encodées et notre target variable ont été fusionnées correctement.\n",
    "\n",
    "- Les étapes de normalisation et d'encodage des données permettent aux modèles de Machine Learning de comprendre les tendances mathématiques sous-jacentes de notre jeu de données.\n",
    "\n",
    "- La normalisation assure que les différentes caractéristiques sont sur la même échelle, l'encodage des variables catégorielles transforme les catégories en un format numérique, facilement interprétable pour les modèles prédictifs."
   ]
  },
  {
   "cell_type": "markdown",
   "metadata": {},
   "source": [
    "### Initialisation du modèle linéaire :"
   ]
  },
  {
   "cell_type": "code",
   "execution_count": null,
   "metadata": {},
   "outputs": [],
   "source": [
    "# Re-séparation des features et de la variable target pour notre modèle :\n",
    "\n",
    "X_train_ml = df_train_clean.drop(columns=['Salary'])\n",
    "X_test_ml = df_test_clean.drop(columns=['Salary'])\n",
    "y_train_ml = df_train_clean['Salary']\n",
    "y_test_ml = df_test_clean['Salary']\n",
    "\n",
    "model = LinearRegression() # Création d'un objet LinearRegression()\n",
    "\n",
    "model.fit(X_train_ml, y_train_ml) # Entraînement du modèle sur nos données qui y sont destinées\n",
    "y_pred = model.predict(X_test_ml) # Prédictions sur l'ensemble de test"
   ]
  },
  {
   "cell_type": "code",
   "execution_count": null,
   "metadata": {},
   "outputs": [],
   "source": [
    "# Évaluation du modèle :\n",
    "\n",
    "mse = mean_squared_error(y_test_ml, y_pred)\n",
    "rmse = sqrt(mean_squared_error(y_test_ml, y_pred))\n",
    "r2 = r2_score(y_test_ml, y_pred)\n",
    "\n",
    "print(f'L\\'erreur quadratique moyenne ou MSE est égale à : {round(mse, 2)}.')\n",
    "print(f'La racine carré du MSE ou RMSE est égale à : {round(rmse, 2)}.')\n",
    "print(f'La performance du modèle pour prédire les salaires, donnée par le coefficient de détermination est de R² : {round(r2 * 100, 2)}%.')\n",
    "\n",
    "# Affichage des coefficients du modèle :\n",
    "\n",
    "coefficients = pd.DataFrame(model.coef_, X_train_ml.columns, columns=['Coefficient'])\n",
    "coefficients = coefficients.sort_values(by='Coefficient', ascending=False).round(2)\n",
    "display(coefficients)"
   ]
  },
  {
   "cell_type": "markdown",
   "metadata": {},
   "source": [
    "Points à relever :\n",
    "\n",
    "- Le RMSE est la racine carrée du MSE. C'est une mesure plus interprétable que le MSE car elle est dans la même unité que la variable cible, soit en dollars. Un RMSE de 10,295.45 indique que, en moyenne, les prédictions de salaire du modèle sont à environ 10,295 dollars de la valeur réelle. Les coefficients sont également intéressants.\n",
    "\n",
    "- Les valeurs de MSE et RMSE, bien qu'élevées, sont cohérentes avec la nature des données salariales qui peuvent varier de manière significative.\n",
    "\n",
    "- La régression linéaire montre de bonnes performances avec un R² élevé, indiquant qu'elle explique bien les variations de salaire."
   ]
  },
  {
   "cell_type": "markdown",
   "metadata": {},
   "source": [
    "# Que faut t-il faire ensuite ?\n",
    "\n",
    "#### Durant ce live coding, nous avons tenté de comprendre comment un modèle de régression linéaire fonctionnait.\n",
    "\n",
    "### Mais quelles sont les prochaines étapes du Data Scientist après avoir constaté le R² et la MSE ?\n",
    "\n",
    "### Il va falloir qu'il affûte son modèle !\n",
    "\n",
    "Pour cela, il peut identifier les features qui ont le plus d'impact sur la prédiction des salaires. Il va donc utiliser des techniques comme la réduction de dimensions qui lui permettra de e débarrasser des features qui nous ralentissent et ne servent à rien.\n",
    "\n",
    "##### Mais il va surtout tester le modèle sur plusieurs ensembles de données différents...\n",
    "\n",
    "Pour s'assurer qu'il n'apprend pas par coeur les données et qu'il généralise bien à de nouvelles situations. \n",
    "\n",
    "### Il va ensuite déployer sont modèle de Machine Learning !\n",
    "\n",
    "Il va choisir la plateforme idéale pour héberger sont modèle, en fonction de ses besoins en termes de puissance, de scalabilité et de coûts. Des options populaires incluent les plateformes cloud comme Google Cloud Platform, Amazon Web Services ou Microsoft Azure, ou encore des solutions sur site comme Docker ou Kubernetes.\n",
    "\n",
    "Plus précisement, il va enregistrer sont modèle dans un format adéquat pour le déploiement, comme un fichier pickle. Il va ensuite créer un script ou une application pour charger le modèle, faire des prédictions et interpréter les résultats.\n",
    "\n",
    "### Mais à la base des prédictions salariales des différents sites, il y a un script Python qui ressemble un peu au nôtre !"
   ]
  }
 ],
 "metadata": {
  "kernelspec": {
   "display_name": "env",
   "language": "python",
   "name": "python3"
  },
  "language_info": {
   "codemirror_mode": {
    "name": "ipython",
    "version": 3
   },
   "file_extension": ".py",
   "mimetype": "text/x-python",
   "name": "python",
   "nbconvert_exporter": "python",
   "pygments_lexer": "ipython3",
   "version": "3.11.9"
  }
 },
 "nbformat": 4,
 "nbformat_minor": 2
}

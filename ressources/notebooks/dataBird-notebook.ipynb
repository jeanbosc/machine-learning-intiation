{
 "cells": [
  {
   "cell_type": "markdown",
   "metadata": {},
   "source": [
    "## Création d'un modèle prédictif simple avec régression linéaire..."
   ]
  },
  {
   "cell_type": "markdown",
   "metadata": {},
   "source": [
    "Dans ce notebook, nous allons explorer comment créer un modèle de régression linéaire simple en utilisant Python. \n",
    "\n",
    "#### Pour ce live-coding, nous utiliserons un jeu de données qui recensent les salaires, l'âge et l'expérience de chaque individus pour prédire les salaires en fonctions des autres variables.\n",
    "\n",
    "### Contexte :\n",
    "\n",
    "La régression linéaire est l'une des techniques les plus fondamentales et les plus couramment utilisées en machine learning et en statistique. Elle permet de modéliser la relation entre une variable ou des variables indépendantes (ou prédictrice) et une variable dépendante (ou cible) en ajustant une ligne droite (ou hyperplan en cas de régression linéaire multiple) aux données observées."
   ]
  },
  {
   "cell_type": "markdown",
   "metadata": {},
   "source": [
    "### L'objectif de ce notebook pour ce live-coding est de :\n",
    "\n",
    "##### De montrer comment entraîner un modèle de régression linéaire simple, et de comprendre comment la prédiction s'opère.\n",
    "\n",
    "##### Let's code !"
   ]
  },
  {
   "cell_type": "markdown",
   "metadata": {},
   "source": [
    "# Comprendre la régression linéaire..."
   ]
  },
  {
   "cell_type": "markdown",
   "metadata": {},
   "source": [
    "### Commençons par importer les packages nécessaires et le jeu de donnée :"
   ]
  },
  {
   "cell_type": "code",
   "execution_count": 22,
   "metadata": {},
   "outputs": [],
   "source": [
    "# Importation des packages nécessaires pour explorer le jeu de donnée :\n",
    "\n",
    "import numpy as np # Utile pour les principes de vectorisations\n",
    "import pandas as pd # Nous allons manipuler les données sur un objet dataframe\n",
    "import matplotlib.pyplot as plt # Utile pour visualiser les données\n",
    "import seaborn as sns # Également utile pour visualiser les données\n",
    "\n",
    "# Packages permettant de faire du machine learning :\n",
    "\n",
    "from sklearn.model_selection import train_test_split # Nous permet de diviser un dataframe en 'train' et 'test'\n",
    "from sklearn.linear_model import LinearRegression # Nous allons pouvoir avec ce module, créer la fonction de la régression linéaire\n",
    "from sklearn.metrics import mean_squared_error, r2_score # Ce sont les métriques qui évaluerons notre modèle\n",
    "from sklearn.preprocessing import StandardScaler, MinMaxScaler # C'est pour initialiser la normalisation de nos données\n",
    "from math import sqrt # Ce package permet de manipuler les modèles de régression si nécessaire"
   ]
  },
  {
   "cell_type": "code",
   "execution_count": 23,
   "metadata": {},
   "outputs": [
    {
     "data": {
      "application/vnd.microsoft.datawrangler.viewer.v0+json": {
       "columns": [
        {
         "name": "index",
         "rawType": "int64",
         "type": "integer"
        },
        {
         "name": "age",
         "rawType": "int64",
         "type": "integer"
        },
        {
         "name": "experience",
         "rawType": "int64",
         "type": "integer"
        },
        {
         "name": "income",
         "rawType": "int64",
         "type": "integer"
        }
       ],
       "conversionMethod": "pd.DataFrame",
       "ref": "f3b68cf7-8679-4d86-bc1c-f32c3c1a16ff",
       "rows": [
        [
         "0",
         "25",
         "1",
         "30450"
        ],
        [
         "1",
         "30",
         "3",
         "35670"
        ],
        [
         "2",
         "47",
         "2",
         "31580"
        ],
        [
         "3",
         "32",
         "5",
         "40130"
        ],
        [
         "4",
         "43",
         "10",
         "47830"
        ],
        [
         "5",
         "51",
         "7",
         "41630"
        ],
        [
         "6",
         "28",
         "5",
         "41340"
        ],
        [
         "7",
         "33",
         "4",
         "37650"
        ],
        [
         "8",
         "37",
         "5",
         "40250"
        ],
        [
         "9",
         "39",
         "8",
         "45150"
        ],
        [
         "10",
         "29",
         "1",
         "27840"
        ],
        [
         "11",
         "47",
         "9",
         "46110"
        ],
        [
         "12",
         "54",
         "5",
         "36720"
        ],
        [
         "13",
         "51",
         "4",
         "34800"
        ],
        [
         "14",
         "44",
         "12",
         "51300"
        ],
        [
         "15",
         "41",
         "6",
         "38900"
        ],
        [
         "16",
         "58",
         "17",
         "63600"
        ],
        [
         "17",
         "23",
         "1",
         "30870"
        ],
        [
         "18",
         "44",
         "9",
         "44190"
        ],
        [
         "19",
         "37",
         "10",
         "48700"
        ]
       ],
       "shape": {
        "columns": 3,
        "rows": 20
       }
      },
      "text/html": [
       "<div>\n",
       "<style scoped>\n",
       "    .dataframe tbody tr th:only-of-type {\n",
       "        vertical-align: middle;\n",
       "    }\n",
       "\n",
       "    .dataframe tbody tr th {\n",
       "        vertical-align: top;\n",
       "    }\n",
       "\n",
       "    .dataframe thead th {\n",
       "        text-align: right;\n",
       "    }\n",
       "</style>\n",
       "<table border=\"1\" class=\"dataframe\">\n",
       "  <thead>\n",
       "    <tr style=\"text-align: right;\">\n",
       "      <th></th>\n",
       "      <th>age</th>\n",
       "      <th>experience</th>\n",
       "      <th>income</th>\n",
       "    </tr>\n",
       "  </thead>\n",
       "  <tbody>\n",
       "    <tr>\n",
       "      <th>0</th>\n",
       "      <td>25</td>\n",
       "      <td>1</td>\n",
       "      <td>30450</td>\n",
       "    </tr>\n",
       "    <tr>\n",
       "      <th>1</th>\n",
       "      <td>30</td>\n",
       "      <td>3</td>\n",
       "      <td>35670</td>\n",
       "    </tr>\n",
       "    <tr>\n",
       "      <th>2</th>\n",
       "      <td>47</td>\n",
       "      <td>2</td>\n",
       "      <td>31580</td>\n",
       "    </tr>\n",
       "    <tr>\n",
       "      <th>3</th>\n",
       "      <td>32</td>\n",
       "      <td>5</td>\n",
       "      <td>40130</td>\n",
       "    </tr>\n",
       "    <tr>\n",
       "      <th>4</th>\n",
       "      <td>43</td>\n",
       "      <td>10</td>\n",
       "      <td>47830</td>\n",
       "    </tr>\n",
       "    <tr>\n",
       "      <th>5</th>\n",
       "      <td>51</td>\n",
       "      <td>7</td>\n",
       "      <td>41630</td>\n",
       "    </tr>\n",
       "    <tr>\n",
       "      <th>6</th>\n",
       "      <td>28</td>\n",
       "      <td>5</td>\n",
       "      <td>41340</td>\n",
       "    </tr>\n",
       "    <tr>\n",
       "      <th>7</th>\n",
       "      <td>33</td>\n",
       "      <td>4</td>\n",
       "      <td>37650</td>\n",
       "    </tr>\n",
       "    <tr>\n",
       "      <th>8</th>\n",
       "      <td>37</td>\n",
       "      <td>5</td>\n",
       "      <td>40250</td>\n",
       "    </tr>\n",
       "    <tr>\n",
       "      <th>9</th>\n",
       "      <td>39</td>\n",
       "      <td>8</td>\n",
       "      <td>45150</td>\n",
       "    </tr>\n",
       "    <tr>\n",
       "      <th>10</th>\n",
       "      <td>29</td>\n",
       "      <td>1</td>\n",
       "      <td>27840</td>\n",
       "    </tr>\n",
       "    <tr>\n",
       "      <th>11</th>\n",
       "      <td>47</td>\n",
       "      <td>9</td>\n",
       "      <td>46110</td>\n",
       "    </tr>\n",
       "    <tr>\n",
       "      <th>12</th>\n",
       "      <td>54</td>\n",
       "      <td>5</td>\n",
       "      <td>36720</td>\n",
       "    </tr>\n",
       "    <tr>\n",
       "      <th>13</th>\n",
       "      <td>51</td>\n",
       "      <td>4</td>\n",
       "      <td>34800</td>\n",
       "    </tr>\n",
       "    <tr>\n",
       "      <th>14</th>\n",
       "      <td>44</td>\n",
       "      <td>12</td>\n",
       "      <td>51300</td>\n",
       "    </tr>\n",
       "    <tr>\n",
       "      <th>15</th>\n",
       "      <td>41</td>\n",
       "      <td>6</td>\n",
       "      <td>38900</td>\n",
       "    </tr>\n",
       "    <tr>\n",
       "      <th>16</th>\n",
       "      <td>58</td>\n",
       "      <td>17</td>\n",
       "      <td>63600</td>\n",
       "    </tr>\n",
       "    <tr>\n",
       "      <th>17</th>\n",
       "      <td>23</td>\n",
       "      <td>1</td>\n",
       "      <td>30870</td>\n",
       "    </tr>\n",
       "    <tr>\n",
       "      <th>18</th>\n",
       "      <td>44</td>\n",
       "      <td>9</td>\n",
       "      <td>44190</td>\n",
       "    </tr>\n",
       "    <tr>\n",
       "      <th>19</th>\n",
       "      <td>37</td>\n",
       "      <td>10</td>\n",
       "      <td>48700</td>\n",
       "    </tr>\n",
       "  </tbody>\n",
       "</table>\n",
       "</div>"
      ],
      "text/plain": [
       "    age  experience  income\n",
       "0    25           1   30450\n",
       "1    30           3   35670\n",
       "2    47           2   31580\n",
       "3    32           5   40130\n",
       "4    43          10   47830\n",
       "5    51           7   41630\n",
       "6    28           5   41340\n",
       "7    33           4   37650\n",
       "8    37           5   40250\n",
       "9    39           8   45150\n",
       "10   29           1   27840\n",
       "11   47           9   46110\n",
       "12   54           5   36720\n",
       "13   51           4   34800\n",
       "14   44          12   51300\n",
       "15   41           6   38900\n",
       "16   58          17   63600\n",
       "17   23           1   30870\n",
       "18   44           9   44190\n",
       "19   37          10   48700"
      ]
     },
     "execution_count": 23,
     "metadata": {},
     "output_type": "execute_result"
    }
   ],
   "source": [
    "# Importation de notre jeu de donnée :\n",
    "\n",
    "df_income = pd.read_csv('../datasets/income.csv')\n",
    "df_income"
   ]
  },
  {
   "cell_type": "markdown",
   "metadata": {},
   "source": [
    "### Explorons la donnée :"
   ]
  },
  {
   "cell_type": "code",
   "execution_count": 24,
   "metadata": {},
   "outputs": [
    {
     "name": "stdout",
     "output_type": "stream",
     "text": [
      "Le dataframe à 20 éléments sur la première dimensions et 3 sur la deuxième dimension.\n",
      "Les colonnes sont: l'age, l'experience et l'income.\n",
      "\n",
      "Les types de données:\n",
      "<class 'pandas.core.frame.DataFrame'>\n",
      "RangeIndex: 20 entries, 0 to 19\n",
      "Data columns (total 3 columns):\n",
      " #   Column      Non-Null Count  Dtype\n",
      "---  ------      --------------  -----\n",
      " 0   age         20 non-null     int64\n",
      " 1   experience  20 non-null     int64\n",
      " 2   income      20 non-null     int64\n",
      "dtypes: int64(3)\n",
      "memory usage: 612.0 bytes\n",
      "None\n",
      "\n",
      " Les statistiques descriptives:\n",
      "             age  experience        income\n",
      "count  20.000000   20.000000     20.000000\n",
      "mean   39.650000    6.200000  40735.500000\n",
      "std    10.027725    4.124382   8439.797625\n",
      "min    23.000000    1.000000  27840.000000\n",
      "25%    31.500000    3.750000  35452.500000\n",
      "50%    40.000000    5.000000  40190.000000\n",
      "75%    47.000000    9.000000  45390.000000\n",
      "max    58.000000   17.000000  63600.000000\n"
     ]
    }
   ],
   "source": [
    "# Méthodes classique permettant de comprendre notre jeu de donnée :\n",
    "\n",
    "print(f\"Le dataframe à {df_income.shape[0]} éléments sur la première dimensions et {df_income.shape[1]} sur la deuxième dimension.\")\n",
    "print(f\"Les colonnes sont: l'{df_income.columns[0]}, l'{df_income.columns[1]} et l'{df_income.columns[2]}.\")\n",
    "print(\"\\nLes types de données:\")\n",
    "print(df_income.info())\n",
    "print(\"\\n Les statistiques descriptives:\")\n",
    "print(df_income.describe())"
   ]
  },
  {
   "cell_type": "markdown",
   "metadata": {},
   "source": [
    "Points à relever :\n",
    "- Le jeu de donnée ne présente pas de valeurs manquantes, nos variables comportent des données de type integers.\n",
    "- Nous pouvons nous attarder sur les métriques principales, la moyenne, la médiane ainsi que l'écart-type de nos variables."
   ]
  },
  {
   "cell_type": "code",
   "execution_count": 25,
   "metadata": {},
   "outputs": [
    {
     "data": {
      "image/png": "[encoded data removed]",
      "text/plain": [
       "<Figure size 1400x600 with 3 Axes>"
      ]
     },
     "metadata": {},
     "output_type": "display_data"
    }
   ],
   "source": [
    "# Code permettant de visualiser la distribution des âges :\n",
    "\n",
    "plt.figure(figsize=(14, 6))\n",
    "plt.subplot(1, 3, 1)\n",
    "sns.histplot(df_income['age'], kde=True, bins=5)\n",
    "plt.title('Distribution des âges')\n",
    "\n",
    "# Code permettant de visualiser la distribution de l'experience :\n",
    "\n",
    "plt.subplot(1, 3, 2)\n",
    "sns.histplot(df_income['experience'], kde=True, bins=5)\n",
    "plt.title('Distribution de l\\'expérience')\n",
    "\n",
    "# Code permettant de visualiser la distribution des salaires :\n",
    "\n",
    "plt.subplot(1, 3, 3)\n",
    "sns.histplot(df_income['income'], kde=True, bins=5)\n",
    "plt.title('Distribution des revenus')\n",
    "\n",
    "plt.tight_layout()\n",
    "plt.show()"
   ]
  },
  {
   "cell_type": "markdown",
   "metadata": {},
   "source": [
    "Points à relever :\n",
    "- Nous observons une certaines similarités dans la distribution des variables, grâce au kernel density estimate (kde).\n",
    "- Nous pouvons déjà nous poser la question de l'influence des variables prédictrices sur notre variable cible."
   ]
  },
  {
   "cell_type": "code",
   "execution_count": 26,
   "metadata": {},
   "outputs": [
    {
     "data": {
      "text/plain": [
       "<seaborn.axisgrid.PairGrid at 0x1c7b3e8f310>"
      ]
     },
     "execution_count": 26,
     "metadata": {},
     "output_type": "execute_result"
    },
    {
     "data": {
      "image/png": "[encoded data removed]",
      "text/plain": [
       "<Figure size 750x750 with 12 Axes>"
      ]
     },
     "metadata": {},
     "output_type": "display_data"
    }
   ],
   "source": [
    "# La méthode '.pairplot()' est très utile pour visualiser les relations linéaires entre les variables :\n",
    "\n",
    "sns.pairplot(df_income) "
   ]
  },
  {
   "cell_type": "markdown",
   "metadata": {},
   "source": [
    "Points à relever :\n",
    "- On constate une linéarité forte entre les salaires et l'expérience, la linéarité est plus faible entre les salaires et l'âge.\n",
    "\n",
    "- Nous pouvons donc affirmer que les variables prédictrices ont un pouvoir d'influence significative sur notre variable cible. "
   ]
  },
  {
   "cell_type": "code",
   "execution_count": 27,
   "metadata": {},
   "outputs": [
    {
     "data": {
      "text/plain": [
       "<Axes: >"
      ]
     },
     "execution_count": 27,
     "metadata": {},
     "output_type": "execute_result"
    },
    {
     "data": {
      "image/png": "[encoded data removed]",
      "text/plain": [
       "<Figure size 640x480 with 2 Axes>"
      ]
     },
     "metadata": {},
     "output_type": "display_data"
    }
   ],
   "source": [
    "# Visualisation des coefficients de corrélation des variables de notre jeu de donnée\n",
    "\n",
    "correlation_income = df_income.corr()\n",
    "sns.heatmap(correlation_income, annot=True, fmt=\".2%\")"
   ]
  },
  {
   "cell_type": "markdown",
   "metadata": {},
   "source": [
    "Points à relever :\n",
    "- On observe une très forte corrélation positive de 98% entre l'expérience et le salaire, ce qui indique que l'expérience est un facteur déterminant majeur dans la variation des salaires. La corrélation entre l'âge et le salaire est de 53%, indiquant que l'âge a une influence modérée mais moins directe sur le salaire comparé à l'expérience.\n",
    "\n",
    "- La corrélation relativement plus faible entre l'âge et le salaire, comparée à celle entre l'expérience et le salaire, montre que l'expérience est un prédicteur beaucoup plus significatif des salaires."
   ]
  },
  {
   "cell_type": "markdown",
   "metadata": {},
   "source": [
    "### C'est le moment d'initialiser notre modèle de régression !"
   ]
  },
  {
   "cell_type": "code",
   "execution_count": 28,
   "metadata": {},
   "outputs": [
    {
     "name": "stdout",
     "output_type": "stream",
     "text": [
      "Taille de X_train: (16, 2), taille de X_test: (4, 2), taille de y_train: (16,), taille de y_test: (4,)\n"
     ]
    }
   ],
   "source": [
    "# Il est temps de diviser notre jeu de donnée en quatre :\n",
    "\n",
    "features = ['age', 'experience'] # Représente les variables prédictrices (qui explique le salaire)\n",
    "target = 'income' # Représente le salaire, c'est notre variable cible\n",
    "\n",
    "X = df_income[features] # Xs est un dataframe contenant deux colonnes\n",
    "y = df_income[target] # y est un dataframe qui contient une colonne\n",
    "\n",
    "X_train, X_test, y_train, y_test = train_test_split(X, y, test_size=0.2) # C'est ici qu'on vient effectuer le split des données\n",
    "\n",
    "print(f'Taille de X_train: {X_train.shape}, taille de X_test: {X_test.shape}, taille de y_train: {y_train.shape}, taille de y_test: {y_test.shape}')"
   ]
  },
  {
   "cell_type": "markdown",
   "metadata": {},
   "source": [
    "Points à relever :\n",
    "- On commence par diviser notre jeu de donnée en quatre parties :\n",
    "\n",
    "    - On isole la variable cible des variables prédictrices.\n",
    "\n",
    "    - On viens ensuite diviser notre jeu de données en deux, de façon aléatoire :\n",
    "    \n",
    "        - 80% des données sont réparties dans deux variables d'entraînement, X_train et y_train.\n",
    "    \n",
    "        - 20% des données sont réparties dans deux variables d'evaluation, X_test et y_test.\n",
    "\n",
    "- On constate la bonne répartition des données dans chacunes de nos variables !"
   ]
  },
  {
   "cell_type": "code",
   "execution_count": 29,
   "metadata": {},
   "outputs": [],
   "source": [
    "# Création du modèle de régression linéaire :\n",
    "\n",
    "model = LinearRegression() # On initialise la fonction de régression (f(x)), dans une variable\n",
    "\n",
    "model.fit(X_train, y_train) # Entraînement du modèle sur les données d'entraînement\n",
    "\n",
    "y_pred = model.predict(X_test) # Prédiction sur l'ensemble de test"
   ]
  },
  {
   "cell_type": "markdown",
   "metadata": {},
   "source": [
    "Points à relever :\n",
    "- On vient initialiser dans une variable la fonction de régression pour pouvoir appliquer des méthodes dessus.\n",
    "\n",
    "- Justement, on applique sur la variable la méthode '.fit()' :\n",
    "\n",
    "    - On vient entraîner le modèle sur nos variables d'entraînement, X_train et y_train.\n",
    "\n",
    "- On applique la méthode '.predict()' sur notre variable d'évaluation, X_test :\n",
    "\n",
    "    - Cette méthode permet de créer 4 valeurs prédites en fonctions des variables prédictrices dans X_test."
   ]
  },
  {
   "cell_type": "code",
   "execution_count": 30,
   "metadata": {},
   "outputs": [
    {
     "name": "stdout",
     "output_type": "stream",
     "text": [
      "Coefficient de détermination: 0.8382\n",
      "la précision du modèle en terme de prédiction est de : 84.0%\n"
     ]
    }
   ],
   "source": [
    "# Calcul du coefficient de détermination R² : \n",
    "\n",
    "r2 = r2_score(y_test, y_pred)\n",
    "\n",
    "print(f'Coefficient de détermination: {round(r2, 4)}') # Ce coefficicent indique la proportion de la variance des salaires qui est expliquée par le modèle\n",
    "print(f'la précision du modèle en terme de prédiction est de : {round(r2, 2) * 100}%')"
   ]
  },
  {
   "cell_type": "markdown",
   "metadata": {},
   "source": [
    "Points à relever :\n",
    "- Un R² proche de 1 (ou 100%) suggère que le modèle explique bien la variabilité des salaires en fonction de l'âge et de l'expérience.\n",
    "\n",
    "- Toutefois, un R² très élevé pourrait aussi indiquer un risque d'overfitting si le modèle est trop spécifique aux données d'entraînement, ce qui pourrait réduire sa capacité à généraliser sur de nouvelles données."
   ]
  },
  {
   "cell_type": "code",
   "execution_count": 31,
   "metadata": {},
   "outputs": [
    {
     "data": {
      "application/vnd.microsoft.datawrangler.viewer.v0+json": {
       "columns": [
        {
         "name": "index",
         "rawType": "int64",
         "type": "integer"
        },
        {
         "name": "age",
         "rawType": "int64",
         "type": "integer"
        },
        {
         "name": "experience",
         "rawType": "int64",
         "type": "integer"
        },
        {
         "name": "income",
         "rawType": "float64",
         "type": "float"
        },
        {
         "name": "predicted_income",
         "rawType": "float64",
         "type": "float"
        }
       ],
       "conversionMethod": "pd.DataFrame",
       "ref": "9cb9d273-6db3-41d1-88bb-cc22889a809a",
       "rows": [
        [
         "0",
         "25",
         "1",
         "30450.0",
         null
        ],
        [
         "1",
         "30",
         "3",
         "35670.0",
         null
        ],
        [
         "2",
         "47",
         "2",
         "31580.0",
         null
        ],
        [
         "3",
         "32",
         "5",
         "40130.0",
         null
        ],
        [
         "4",
         "43",
         "10",
         "47830.0",
         null
        ],
        [
         "5",
         "51",
         "7",
         "41630.0",
         null
        ],
        [
         "6",
         "28",
         "5",
         "41340.0",
         null
        ],
        [
         "7",
         "33",
         "4",
         "37650.0",
         null
        ],
        [
         "8",
         "37",
         "5",
         "40250.0",
         null
        ],
        [
         "9",
         "39",
         "8",
         "45150.0",
         null
        ],
        [
         "10",
         "29",
         "1",
         "27840.0",
         null
        ],
        [
         "11",
         "47",
         "9",
         "46110.0",
         null
        ],
        [
         "12",
         "54",
         "5",
         "36720.0",
         null
        ],
        [
         "13",
         "51",
         "4",
         "34800.0",
         null
        ],
        [
         "14",
         "44",
         "12",
         "51300.0",
         null
        ],
        [
         "15",
         "41",
         "6",
         "38900.0",
         null
        ],
        [
         "16",
         "58",
         "17",
         "63600.0",
         null
        ],
        [
         "17",
         "23",
         "1",
         "30870.0",
         null
        ],
        [
         "18",
         "44",
         "9",
         "44190.0",
         null
        ],
        [
         "19",
         "37",
         "10",
         "48700.0",
         null
        ],
        [
         "20",
         "47",
         "12",
         null,
         "52417.0"
        ],
        [
         "21",
         "50",
         "20",
         null,
         "69504.0"
        ],
        [
         "22",
         "28",
         "7",
         null,
         "43167.0"
        ],
        [
         "23",
         "19",
         "2",
         null,
         "33083.0"
        ]
       ],
       "shape": {
        "columns": 4,
        "rows": 24
       }
      },
      "text/html": [
       "<div>\n",
       "<style scoped>\n",
       "    .dataframe tbody tr th:only-of-type {\n",
       "        vertical-align: middle;\n",
       "    }\n",
       "\n",
       "    .dataframe tbody tr th {\n",
       "        vertical-align: top;\n",
       "    }\n",
       "\n",
       "    .dataframe thead th {\n",
       "        text-align: right;\n",
       "    }\n",
       "</style>\n",
       "<table border=\"1\" class=\"dataframe\">\n",
       "  <thead>\n",
       "    <tr style=\"text-align: right;\">\n",
       "      <th></th>\n",
       "      <th>age</th>\n",
       "      <th>experience</th>\n",
       "      <th>income</th>\n",
       "      <th>predicted_income</th>\n",
       "    </tr>\n",
       "  </thead>\n",
       "  <tbody>\n",
       "    <tr>\n",
       "      <th>0</th>\n",
       "      <td>25</td>\n",
       "      <td>1</td>\n",
       "      <td>30450.0</td>\n",
       "      <td>NaN</td>\n",
       "    </tr>\n",
       "    <tr>\n",
       "      <th>1</th>\n",
       "      <td>30</td>\n",
       "      <td>3</td>\n",
       "      <td>35670.0</td>\n",
       "      <td>NaN</td>\n",
       "    </tr>\n",
       "    <tr>\n",
       "      <th>2</th>\n",
       "      <td>47</td>\n",
       "      <td>2</td>\n",
       "      <td>31580.0</td>\n",
       "      <td>NaN</td>\n",
       "    </tr>\n",
       "    <tr>\n",
       "      <th>3</th>\n",
       "      <td>32</td>\n",
       "      <td>5</td>\n",
       "      <td>40130.0</td>\n",
       "      <td>NaN</td>\n",
       "    </tr>\n",
       "    <tr>\n",
       "      <th>4</th>\n",
       "      <td>43</td>\n",
       "      <td>10</td>\n",
       "      <td>47830.0</td>\n",
       "      <td>NaN</td>\n",
       "    </tr>\n",
       "    <tr>\n",
       "      <th>5</th>\n",
       "      <td>51</td>\n",
       "      <td>7</td>\n",
       "      <td>41630.0</td>\n",
       "      <td>NaN</td>\n",
       "    </tr>\n",
       "    <tr>\n",
       "      <th>6</th>\n",
       "      <td>28</td>\n",
       "      <td>5</td>\n",
       "      <td>41340.0</td>\n",
       "      <td>NaN</td>\n",
       "    </tr>\n",
       "    <tr>\n",
       "      <th>7</th>\n",
       "      <td>33</td>\n",
       "      <td>4</td>\n",
       "      <td>37650.0</td>\n",
       "      <td>NaN</td>\n",
       "    </tr>\n",
       "    <tr>\n",
       "      <th>8</th>\n",
       "      <td>37</td>\n",
       "      <td>5</td>\n",
       "      <td>40250.0</td>\n",
       "      <td>NaN</td>\n",
       "    </tr>\n",
       "    <tr>\n",
       "      <th>9</th>\n",
       "      <td>39</td>\n",
       "      <td>8</td>\n",
       "      <td>45150.0</td>\n",
       "      <td>NaN</td>\n",
       "    </tr>\n",
       "    <tr>\n",
       "      <th>10</th>\n",
       "      <td>29</td>\n",
       "      <td>1</td>\n",
       "      <td>27840.0</td>\n",
       "      <td>NaN</td>\n",
       "    </tr>\n",
       "    <tr>\n",
       "      <th>11</th>\n",
       "      <td>47</td>\n",
       "      <td>9</td>\n",
       "      <td>46110.0</td>\n",
       "      <td>NaN</td>\n",
       "    </tr>\n",
       "    <tr>\n",
       "      <th>12</th>\n",
       "      <td>54</td>\n",
       "      <td>5</td>\n",
       "      <td>36720.0</td>\n",
       "      <td>NaN</td>\n",
       "    </tr>\n",
       "    <tr>\n",
       "      <th>13</th>\n",
       "      <td>51</td>\n",
       "      <td>4</td>\n",
       "      <td>34800.0</td>\n",
       "      <td>NaN</td>\n",
       "    </tr>\n",
       "    <tr>\n",
       "      <th>14</th>\n",
       "      <td>44</td>\n",
       "      <td>12</td>\n",
       "      <td>51300.0</td>\n",
       "      <td>NaN</td>\n",
       "    </tr>\n",
       "    <tr>\n",
       "      <th>15</th>\n",
       "      <td>41</td>\n",
       "      <td>6</td>\n",
       "      <td>38900.0</td>\n",
       "      <td>NaN</td>\n",
       "    </tr>\n",
       "    <tr>\n",
       "      <th>16</th>\n",
       "      <td>58</td>\n",
       "      <td>17</td>\n",
       "      <td>63600.0</td>\n",
       "      <td>NaN</td>\n",
       "    </tr>\n",
       "    <tr>\n",
       "      <th>17</th>\n",
       "      <td>23</td>\n",
       "      <td>1</td>\n",
       "      <td>30870.0</td>\n",
       "      <td>NaN</td>\n",
       "    </tr>\n",
       "    <tr>\n",
       "      <th>18</th>\n",
       "      <td>44</td>\n",
       "      <td>9</td>\n",
       "      <td>44190.0</td>\n",
       "      <td>NaN</td>\n",
       "    </tr>\n",
       "    <tr>\n",
       "      <th>19</th>\n",
       "      <td>37</td>\n",
       "      <td>10</td>\n",
       "      <td>48700.0</td>\n",
       "      <td>NaN</td>\n",
       "    </tr>\n",
       "    <tr>\n",
       "      <th>20</th>\n",
       "      <td>47</td>\n",
       "      <td>12</td>\n",
       "      <td>NaN</td>\n",
       "      <td>52417.0</td>\n",
       "    </tr>\n",
       "    <tr>\n",
       "      <th>21</th>\n",
       "      <td>50</td>\n",
       "      <td>20</td>\n",
       "      <td>NaN</td>\n",
       "      <td>69504.0</td>\n",
       "    </tr>\n",
       "    <tr>\n",
       "      <th>22</th>\n",
       "      <td>28</td>\n",
       "      <td>7</td>\n",
       "      <td>NaN</td>\n",
       "      <td>43167.0</td>\n",
       "    </tr>\n",
       "    <tr>\n",
       "      <th>23</th>\n",
       "      <td>19</td>\n",
       "      <td>2</td>\n",
       "      <td>NaN</td>\n",
       "      <td>33083.0</td>\n",
       "    </tr>\n",
       "  </tbody>\n",
       "</table>\n",
       "</div>"
      ],
      "text/plain": [
       "    age  experience   income  predicted_income\n",
       "0    25           1  30450.0               NaN\n",
       "1    30           3  35670.0               NaN\n",
       "2    47           2  31580.0               NaN\n",
       "3    32           5  40130.0               NaN\n",
       "4    43          10  47830.0               NaN\n",
       "5    51           7  41630.0               NaN\n",
       "6    28           5  41340.0               NaN\n",
       "7    33           4  37650.0               NaN\n",
       "8    37           5  40250.0               NaN\n",
       "9    39           8  45150.0               NaN\n",
       "10   29           1  27840.0               NaN\n",
       "11   47           9  46110.0               NaN\n",
       "12   54           5  36720.0               NaN\n",
       "13   51           4  34800.0               NaN\n",
       "14   44          12  51300.0               NaN\n",
       "15   41           6  38900.0               NaN\n",
       "16   58          17  63600.0               NaN\n",
       "17   23           1  30870.0               NaN\n",
       "18   44           9  44190.0               NaN\n",
       "19   37          10  48700.0               NaN\n",
       "20   47          12      NaN           52417.0\n",
       "21   50          20      NaN           69504.0\n",
       "22   28           7      NaN           43167.0\n",
       "23   19           2      NaN           33083.0"
      ]
     },
     "metadata": {},
     "output_type": "display_data"
    }
   ],
   "source": [
    "# Prédiction sur de nouvelles données :\n",
    "\n",
    "df_predictions = pd.DataFrame({\n",
    "    'age': [47, 50, 28, 19],\n",
    "    'experience': [12, 20, 7, 2]\n",
    "})\n",
    "\n",
    "new_predictions = model.predict(df_predictions) # Prédiction des revenus avec les nouvelles données\n",
    "\n",
    "df_predictions['predicted_income'] = new_predictions.round() # Affichage des prédictions\n",
    "\n",
    "df_new_income = pd.concat([df_income, df_predictions]) # Concaténation des dataframes\n",
    "df_new_income = df_new_income.reset_index().drop(columns='index') # Réinitialisation de l'index\n",
    "display(df_new_income) # Affichage de notre jeu de données ayant les observations réelles et les observation prédites"
   ]
  },
  {
   "cell_type": "markdown",
   "metadata": {},
   "source": [
    "Points à relever :\n",
    "- Les nouvelles données incluent des âges de 41, 50, 28, et 30 ans avec respectivement 10, 20, 7, et 3 années d'expérience. Le modèle de régression linéaire est utilisé pour prédire les revenus basés sur ces nouvelles données."
   ]
  },
  {
   "cell_type": "code",
   "execution_count": null,
   "metadata": {},
   "outputs": [],
   "source": [
    "plt.figure(figsize=(18, 6)) # paramétrage de la taille de l'output\n",
    "\n",
    "# Premier sous-graphique montrant la relation entre les revenus prédits et l'expérience :\n",
    "\n",
    "plt.subplot(1, 3, 2)  \n",
    "sns.scatterplot(x=df_new_income['experience'], y=df_new_income['predicted_income'])\n",
    "sns.regplot(x=df_new_income['experience'], y=df_new_income['predicted_income'], scatter=False)\n",
    "plt.xlabel('Expérience')\n",
    "plt.ylabel('Revenus prédits')\n",
    "plt.title('Revenus prédits en fonction de l\\'expérience')\n",
    "\n",
    "# Deuxième sous-graphique montrant la distribution des revenus réels et des revenus prédits :\n",
    "\n",
    "plt.subplot(1, 3, 3)\n",
    "sns.histplot(df_new_income['income'], kde=True, bins=10, color='blue', label='Revenus réels', alpha=0.6)\n",
    "sns.histplot(df_new_income['predicted_income'], kde=True, bins=10, color='orange', label='Revenus prédits', alpha=0.6)\n",
    "plt.legend()\n",
    "plt.title('Distribution des revenus réels et prédits')\n",
    "\n",
    "plt.tight_layout()\n",
    "plt.show()"
   ]
  },
  {
   "cell_type": "markdown",
   "metadata": {},
   "source": [
    "Points à relever :\n",
    "- Malgré le fait que nous nous basons sur simplement quatres données prédites, il semble que le modèle est bien cohérent par rapport aux données des variables prédictrices !"
   ]
  },
  {
   "cell_type": "markdown",
   "metadata": {},
   "source": [
    "# Appliquer la régression linéaire sur des données plus complexe..."
   ]
  },
  {
   "cell_type": "markdown",
   "metadata": {},
   "source": [
    "### Forcément, les jeux de données sont rarement aussi simple !\n",
    "\n",
    "Dans la première partie de notre live coding, nous avons exploré un exemple de modèle de régression linéaire sur un jeu de données relativement simple, mettant en relation les revenus prédits avec des variables telles que l'expérience et l'âge. Cependant, dans le monde réel, les jeux de données sont rarement aussi simples. \n",
    "\n",
    "##### Souvent, ils sont beaucoup plus riches et complexes, composés de multiples types de variables.\n",
    "\n",
    "Dans cette deuxième partie, nous allons plonger dans un jeu de données plus complexe et plus riche. Nous explorerons un exemple de modèle de machine learning appliqué à un jeu de données comportant à la fois des données numériques et catégorielles.\n"
   ]
  },
  {
   "cell_type": "code",
   "execution_count": null,
   "metadata": {},
   "outputs": [
    {
     "ename": "FileNotFoundError",
     "evalue": "[Errno 2] No such file or directory: 'salary_prediction_data.csv'",
     "output_type": "error",
     "traceback": [
      "\u001b[1;31m---------------------------------------------------------------------------\u001b[0m",
      "\u001b[1;31mFileNotFoundError\u001b[0m                         Traceback (most recent call last)",
      "Cell \u001b[1;32mIn[21], line 1\u001b[0m\n\u001b[1;32m----> 1\u001b[0m df_salary \u001b[38;5;241m=\u001b[39m \u001b[43mpd\u001b[49m\u001b[38;5;241;43m.\u001b[39;49m\u001b[43mread_csv\u001b[49m\u001b[43m(\u001b[49m\u001b[38;5;124;43m'\u001b[39;49m\u001b[38;5;124;43msalary_prediction_data.csv\u001b[39;49m\u001b[38;5;124;43m'\u001b[39;49m\u001b[43m)\u001b[49m\n\u001b[0;32m      2\u001b[0m display(df_salary)\n",
      "File \u001b[1;32mc:\\Users\\jeanb\\projets\\machine-learning-intiation\\env\\Lib\\site-packages\\pandas\\io\\parsers\\readers.py:1026\u001b[0m, in \u001b[0;36mread_csv\u001b[1;34m(filepath_or_buffer, sep, delimiter, header, names, index_col, usecols, dtype, engine, converters, true_values, false_values, skipinitialspace, skiprows, skipfooter, nrows, na_values, keep_default_na, na_filter, verbose, skip_blank_lines, parse_dates, infer_datetime_format, keep_date_col, date_parser, date_format, dayfirst, cache_dates, iterator, chunksize, compression, thousands, decimal, lineterminator, quotechar, quoting, doublequote, escapechar, comment, encoding, encoding_errors, dialect, on_bad_lines, delim_whitespace, low_memory, memory_map, float_precision, storage_options, dtype_backend)\u001b[0m\n\u001b[0;32m   1013\u001b[0m kwds_defaults \u001b[38;5;241m=\u001b[39m _refine_defaults_read(\n\u001b[0;32m   1014\u001b[0m     dialect,\n\u001b[0;32m   1015\u001b[0m     delimiter,\n\u001b[1;32m   (...)\u001b[0m\n\u001b[0;32m   1022\u001b[0m     dtype_backend\u001b[38;5;241m=\u001b[39mdtype_backend,\n\u001b[0;32m   1023\u001b[0m )\n\u001b[0;32m   1024\u001b[0m kwds\u001b[38;5;241m.\u001b[39mupdate(kwds_defaults)\n\u001b[1;32m-> 1026\u001b[0m \u001b[38;5;28;01mreturn\u001b[39;00m \u001b[43m_read\u001b[49m\u001b[43m(\u001b[49m\u001b[43mfilepath_or_buffer\u001b[49m\u001b[43m,\u001b[49m\u001b[43m \u001b[49m\u001b[43mkwds\u001b[49m\u001b[43m)\u001b[49m\n",
      "File \u001b[1;32mc:\\Users\\jeanb\\projets\\machine-learning-intiation\\env\\Lib\\site-packages\\pandas\\io\\parsers\\readers.py:620\u001b[0m, in \u001b[0;36m_read\u001b[1;34m(filepath_or_buffer, kwds)\u001b[0m\n\u001b[0;32m    617\u001b[0m _validate_names(kwds\u001b[38;5;241m.\u001b[39mget(\u001b[38;5;124m\"\u001b[39m\u001b[38;5;124mnames\u001b[39m\u001b[38;5;124m\"\u001b[39m, \u001b[38;5;28;01mNone\u001b[39;00m))\n\u001b[0;32m    619\u001b[0m \u001b[38;5;66;03m# Create the parser.\u001b[39;00m\n\u001b[1;32m--> 620\u001b[0m parser \u001b[38;5;241m=\u001b[39m \u001b[43mTextFileReader\u001b[49m\u001b[43m(\u001b[49m\u001b[43mfilepath_or_buffer\u001b[49m\u001b[43m,\u001b[49m\u001b[43m \u001b[49m\u001b[38;5;241;43m*\u001b[39;49m\u001b[38;5;241;43m*\u001b[39;49m\u001b[43mkwds\u001b[49m\u001b[43m)\u001b[49m\n\u001b[0;32m    622\u001b[0m \u001b[38;5;28;01mif\u001b[39;00m chunksize \u001b[38;5;129;01mor\u001b[39;00m iterator:\n\u001b[0;32m    623\u001b[0m     \u001b[38;5;28;01mreturn\u001b[39;00m parser\n",
      "File \u001b[1;32mc:\\Users\\jeanb\\projets\\machine-learning-intiation\\env\\Lib\\site-packages\\pandas\\io\\parsers\\readers.py:1620\u001b[0m, in \u001b[0;36mTextFileReader.__init__\u001b[1;34m(self, f, engine, **kwds)\u001b[0m\n\u001b[0;32m   1617\u001b[0m     \u001b[38;5;28mself\u001b[39m\u001b[38;5;241m.\u001b[39moptions[\u001b[38;5;124m\"\u001b[39m\u001b[38;5;124mhas_index_names\u001b[39m\u001b[38;5;124m\"\u001b[39m] \u001b[38;5;241m=\u001b[39m kwds[\u001b[38;5;124m\"\u001b[39m\u001b[38;5;124mhas_index_names\u001b[39m\u001b[38;5;124m\"\u001b[39m]\n\u001b[0;32m   1619\u001b[0m \u001b[38;5;28mself\u001b[39m\u001b[38;5;241m.\u001b[39mhandles: IOHandles \u001b[38;5;241m|\u001b[39m \u001b[38;5;28;01mNone\u001b[39;00m \u001b[38;5;241m=\u001b[39m \u001b[38;5;28;01mNone\u001b[39;00m\n\u001b[1;32m-> 1620\u001b[0m \u001b[38;5;28mself\u001b[39m\u001b[38;5;241m.\u001b[39m_engine \u001b[38;5;241m=\u001b[39m \u001b[38;5;28;43mself\u001b[39;49m\u001b[38;5;241;43m.\u001b[39;49m\u001b[43m_make_engine\u001b[49m\u001b[43m(\u001b[49m\u001b[43mf\u001b[49m\u001b[43m,\u001b[49m\u001b[43m \u001b[49m\u001b[38;5;28;43mself\u001b[39;49m\u001b[38;5;241;43m.\u001b[39;49m\u001b[43mengine\u001b[49m\u001b[43m)\u001b[49m\n",
      "File \u001b[1;32mc:\\Users\\jeanb\\projets\\machine-learning-intiation\\env\\Lib\\site-packages\\pandas\\io\\parsers\\readers.py:1880\u001b[0m, in \u001b[0;36mTextFileReader._make_engine\u001b[1;34m(self, f, engine)\u001b[0m\n\u001b[0;32m   1878\u001b[0m     \u001b[38;5;28;01mif\u001b[39;00m \u001b[38;5;124m\"\u001b[39m\u001b[38;5;124mb\u001b[39m\u001b[38;5;124m\"\u001b[39m \u001b[38;5;129;01mnot\u001b[39;00m \u001b[38;5;129;01min\u001b[39;00m mode:\n\u001b[0;32m   1879\u001b[0m         mode \u001b[38;5;241m+\u001b[39m\u001b[38;5;241m=\u001b[39m \u001b[38;5;124m\"\u001b[39m\u001b[38;5;124mb\u001b[39m\u001b[38;5;124m\"\u001b[39m\n\u001b[1;32m-> 1880\u001b[0m \u001b[38;5;28mself\u001b[39m\u001b[38;5;241m.\u001b[39mhandles \u001b[38;5;241m=\u001b[39m \u001b[43mget_handle\u001b[49m\u001b[43m(\u001b[49m\n\u001b[0;32m   1881\u001b[0m \u001b[43m    \u001b[49m\u001b[43mf\u001b[49m\u001b[43m,\u001b[49m\n\u001b[0;32m   1882\u001b[0m \u001b[43m    \u001b[49m\u001b[43mmode\u001b[49m\u001b[43m,\u001b[49m\n\u001b[0;32m   1883\u001b[0m \u001b[43m    \u001b[49m\u001b[43mencoding\u001b[49m\u001b[38;5;241;43m=\u001b[39;49m\u001b[38;5;28;43mself\u001b[39;49m\u001b[38;5;241;43m.\u001b[39;49m\u001b[43moptions\u001b[49m\u001b[38;5;241;43m.\u001b[39;49m\u001b[43mget\u001b[49m\u001b[43m(\u001b[49m\u001b[38;5;124;43m\"\u001b[39;49m\u001b[38;5;124;43mencoding\u001b[39;49m\u001b[38;5;124;43m\"\u001b[39;49m\u001b[43m,\u001b[49m\u001b[43m \u001b[49m\u001b[38;5;28;43;01mNone\u001b[39;49;00m\u001b[43m)\u001b[49m\u001b[43m,\u001b[49m\n\u001b[0;32m   1884\u001b[0m \u001b[43m    \u001b[49m\u001b[43mcompression\u001b[49m\u001b[38;5;241;43m=\u001b[39;49m\u001b[38;5;28;43mself\u001b[39;49m\u001b[38;5;241;43m.\u001b[39;49m\u001b[43moptions\u001b[49m\u001b[38;5;241;43m.\u001b[39;49m\u001b[43mget\u001b[49m\u001b[43m(\u001b[49m\u001b[38;5;124;43m\"\u001b[39;49m\u001b[38;5;124;43mcompression\u001b[39;49m\u001b[38;5;124;43m\"\u001b[39;49m\u001b[43m,\u001b[49m\u001b[43m \u001b[49m\u001b[38;5;28;43;01mNone\u001b[39;49;00m\u001b[43m)\u001b[49m\u001b[43m,\u001b[49m\n\u001b[0;32m   1885\u001b[0m \u001b[43m    \u001b[49m\u001b[43mmemory_map\u001b[49m\u001b[38;5;241;43m=\u001b[39;49m\u001b[38;5;28;43mself\u001b[39;49m\u001b[38;5;241;43m.\u001b[39;49m\u001b[43moptions\u001b[49m\u001b[38;5;241;43m.\u001b[39;49m\u001b[43mget\u001b[49m\u001b[43m(\u001b[49m\u001b[38;5;124;43m\"\u001b[39;49m\u001b[38;5;124;43mmemory_map\u001b[39;49m\u001b[38;5;124;43m\"\u001b[39;49m\u001b[43m,\u001b[49m\u001b[43m \u001b[49m\u001b[38;5;28;43;01mFalse\u001b[39;49;00m\u001b[43m)\u001b[49m\u001b[43m,\u001b[49m\n\u001b[0;32m   1886\u001b[0m \u001b[43m    \u001b[49m\u001b[43mis_text\u001b[49m\u001b[38;5;241;43m=\u001b[39;49m\u001b[43mis_text\u001b[49m\u001b[43m,\u001b[49m\n\u001b[0;32m   1887\u001b[0m \u001b[43m    \u001b[49m\u001b[43merrors\u001b[49m\u001b[38;5;241;43m=\u001b[39;49m\u001b[38;5;28;43mself\u001b[39;49m\u001b[38;5;241;43m.\u001b[39;49m\u001b[43moptions\u001b[49m\u001b[38;5;241;43m.\u001b[39;49m\u001b[43mget\u001b[49m\u001b[43m(\u001b[49m\u001b[38;5;124;43m\"\u001b[39;49m\u001b[38;5;124;43mencoding_errors\u001b[39;49m\u001b[38;5;124;43m\"\u001b[39;49m\u001b[43m,\u001b[49m\u001b[43m \u001b[49m\u001b[38;5;124;43m\"\u001b[39;49m\u001b[38;5;124;43mstrict\u001b[39;49m\u001b[38;5;124;43m\"\u001b[39;49m\u001b[43m)\u001b[49m\u001b[43m,\u001b[49m\n\u001b[0;32m   1888\u001b[0m \u001b[43m    \u001b[49m\u001b[43mstorage_options\u001b[49m\u001b[38;5;241;43m=\u001b[39;49m\u001b[38;5;28;43mself\u001b[39;49m\u001b[38;5;241;43m.\u001b[39;49m\u001b[43moptions\u001b[49m\u001b[38;5;241;43m.\u001b[39;49m\u001b[43mget\u001b[49m\u001b[43m(\u001b[49m\u001b[38;5;124;43m\"\u001b[39;49m\u001b[38;5;124;43mstorage_options\u001b[39;49m\u001b[38;5;124;43m\"\u001b[39;49m\u001b[43m,\u001b[49m\u001b[43m \u001b[49m\u001b[38;5;28;43;01mNone\u001b[39;49;00m\u001b[43m)\u001b[49m\u001b[43m,\u001b[49m\n\u001b[0;32m   1889\u001b[0m \u001b[43m\u001b[49m\u001b[43m)\u001b[49m\n\u001b[0;32m   1890\u001b[0m \u001b[38;5;28;01massert\u001b[39;00m \u001b[38;5;28mself\u001b[39m\u001b[38;5;241m.\u001b[39mhandles \u001b[38;5;129;01mis\u001b[39;00m \u001b[38;5;129;01mnot\u001b[39;00m \u001b[38;5;28;01mNone\u001b[39;00m\n\u001b[0;32m   1891\u001b[0m f \u001b[38;5;241m=\u001b[39m \u001b[38;5;28mself\u001b[39m\u001b[38;5;241m.\u001b[39mhandles\u001b[38;5;241m.\u001b[39mhandle\n",
      "File \u001b[1;32mc:\\Users\\jeanb\\projets\\machine-learning-intiation\\env\\Lib\\site-packages\\pandas\\io\\common.py:873\u001b[0m, in \u001b[0;36mget_handle\u001b[1;34m(path_or_buf, mode, encoding, compression, memory_map, is_text, errors, storage_options)\u001b[0m\n\u001b[0;32m    868\u001b[0m \u001b[38;5;28;01melif\u001b[39;00m \u001b[38;5;28misinstance\u001b[39m(handle, \u001b[38;5;28mstr\u001b[39m):\n\u001b[0;32m    869\u001b[0m     \u001b[38;5;66;03m# Check whether the filename is to be opened in binary mode.\u001b[39;00m\n\u001b[0;32m    870\u001b[0m     \u001b[38;5;66;03m# Binary mode does not support 'encoding' and 'newline'.\u001b[39;00m\n\u001b[0;32m    871\u001b[0m     \u001b[38;5;28;01mif\u001b[39;00m ioargs\u001b[38;5;241m.\u001b[39mencoding \u001b[38;5;129;01mand\u001b[39;00m \u001b[38;5;124m\"\u001b[39m\u001b[38;5;124mb\u001b[39m\u001b[38;5;124m\"\u001b[39m \u001b[38;5;129;01mnot\u001b[39;00m \u001b[38;5;129;01min\u001b[39;00m ioargs\u001b[38;5;241m.\u001b[39mmode:\n\u001b[0;32m    872\u001b[0m         \u001b[38;5;66;03m# Encoding\u001b[39;00m\n\u001b[1;32m--> 873\u001b[0m         handle \u001b[38;5;241m=\u001b[39m \u001b[38;5;28;43mopen\u001b[39;49m\u001b[43m(\u001b[49m\n\u001b[0;32m    874\u001b[0m \u001b[43m            \u001b[49m\u001b[43mhandle\u001b[49m\u001b[43m,\u001b[49m\n\u001b[0;32m    875\u001b[0m \u001b[43m            \u001b[49m\u001b[43mioargs\u001b[49m\u001b[38;5;241;43m.\u001b[39;49m\u001b[43mmode\u001b[49m\u001b[43m,\u001b[49m\n\u001b[0;32m    876\u001b[0m \u001b[43m            \u001b[49m\u001b[43mencoding\u001b[49m\u001b[38;5;241;43m=\u001b[39;49m\u001b[43mioargs\u001b[49m\u001b[38;5;241;43m.\u001b[39;49m\u001b[43mencoding\u001b[49m\u001b[43m,\u001b[49m\n\u001b[0;32m    877\u001b[0m \u001b[43m            \u001b[49m\u001b[43merrors\u001b[49m\u001b[38;5;241;43m=\u001b[39;49m\u001b[43merrors\u001b[49m\u001b[43m,\u001b[49m\n\u001b[0;32m    878\u001b[0m \u001b[43m            \u001b[49m\u001b[43mnewline\u001b[49m\u001b[38;5;241;43m=\u001b[39;49m\u001b[38;5;124;43m\"\u001b[39;49m\u001b[38;5;124;43m\"\u001b[39;49m\u001b[43m,\u001b[49m\n\u001b[0;32m    879\u001b[0m \u001b[43m        \u001b[49m\u001b[43m)\u001b[49m\n\u001b[0;32m    880\u001b[0m     \u001b[38;5;28;01melse\u001b[39;00m:\n\u001b[0;32m    881\u001b[0m         \u001b[38;5;66;03m# Binary mode\u001b[39;00m\n\u001b[0;32m    882\u001b[0m         handle \u001b[38;5;241m=\u001b[39m \u001b[38;5;28mopen\u001b[39m(handle, ioargs\u001b[38;5;241m.\u001b[39mmode)\n",
      "\u001b[1;31mFileNotFoundError\u001b[0m: [Errno 2] No such file or directory: 'salary_prediction_data.csv'"
     ]
    }
   ],
   "source": [
    "df_salary = pd.read_csv('salary_prediction_data.csv')\n",
    "display(df_salary)"
   ]
  },
  {
   "cell_type": "markdown",
   "metadata": {},
   "source": [
    "### Traitement de la donnée avant d'initialiser le modèle :"
   ]
  },
  {
   "cell_type": "code",
   "execution_count": null,
   "metadata": {},
   "outputs": [],
   "source": [
    "df_salary.dtypes"
   ]
  },
  {
   "cell_type": "markdown",
   "metadata": {},
   "source": [
    "Points à relever :\n",
    "- On ne traite pas les données numériques de la même façon que les données catégorielles. Ici, nos variables ont le bon type de donnée."
   ]
  },
  {
   "cell_type": "code",
   "execution_count": null,
   "metadata": {},
   "outputs": [],
   "source": [
    "df_salary.isna().sum()"
   ]
  },
  {
   "cell_type": "markdown",
   "metadata": {},
   "source": [
    "Points à relever :\n",
    "- Il est essentiel d'enlever les valeurs manquantes avant d'initialiser un modèle de Machine Learning."
   ]
  },
  {
   "cell_type": "markdown",
   "metadata": {},
   "source": [
    "### Visualisation les variables de notre jeu de données :"
   ]
  },
  {
   "cell_type": "code",
   "execution_count": null,
   "metadata": {},
   "outputs": [],
   "source": [
    "sns.pairplot(df_salary)"
   ]
  },
  {
   "cell_type": "markdown",
   "metadata": {},
   "source": [
    "Points à relever :\n",
    "- Nous constatons que nos variables prédictrices ne suivent pas une distribution normale, nous favoriserons donc le normalisateur : 'MinMaxScaler()' pour elles.\n",
    "\n",
    "- Également, la relation entre nos features par rapport a notre target est difficile à déterminer. Cela reflète bien la réalité du marché et des salaires !"
   ]
  },
  {
   "cell_type": "markdown",
   "metadata": {},
   "source": [
    "### Division de notre jeu de données :"
   ]
  },
  {
   "cell_type": "code",
   "execution_count": null,
   "metadata": {},
   "outputs": [],
   "source": [
    "features = ['Education', 'Experience' ,'Location', 'Job_Title', 'Age', 'Gender']\n",
    "target = 'Salary'\n",
    "\n",
    "X = df_salary[features] \n",
    "y = df_salary[target] \n",
    "\n",
    "X_train, X_test, y_train, y_test = train_test_split(X, y, test_size=0.2, random_state=42) \n",
    "\n",
    "print(f'Taille de X_train: {X_train.shape}, taille de X_test: {X_test.shape}, taille de y_train: {y_train.shape}, taille de y_test: {y_test.shape}')"
   ]
  },
  {
   "cell_type": "markdown",
   "metadata": {},
   "source": [
    "Points à relever :\n",
    "- Nous remarquons la bonne répartition de nos données dans nos quatres nouveaux objets."
   ]
  },
  {
   "cell_type": "markdown",
   "metadata": {},
   "source": [
    "### Commençons par traiter nos données numériques :"
   ]
  },
  {
   "cell_type": "code",
   "execution_count": null,
   "metadata": {},
   "outputs": [],
   "source": [
    "df_salary.select_dtypes(include='number')\n",
    "\n",
    "mmscaler = MinMaxScaler() # Création d'un objet MinMaxScaler\n",
    "cols_to_nor = ['Experience', 'Age'] # Appliquer la normalisation sur ces colonnes\n",
    "\n",
    "# Normalisation de nos features avec le MinMaxScaler : \n",
    "\n",
    "X_train_nor = pd.DataFrame(mmscaler.fit_transform(X_train[cols_to_nor]), columns=cols_to_nor, index=X_train.index) # Appliquer le scaler sur l'ensemble de train\n",
    "X_test_nor = pd.DataFrame(mmscaler.transform(X_test[cols_to_nor]), columns=cols_to_nor, index=X_test.index) # Appliquer le scaler à l'ensemble de test\n",
    "display(X_test[cols_to_nor])\n",
    "display(X_test_nor)"
   ]
  },
  {
   "cell_type": "markdown",
   "metadata": {},
   "source": [
    "Points à relever :\n",
    "- Ici, la normalisation des données nous à permis de mettre nos données à niveau pour éviter que notre modèle attribut un poid trop grand sur la variable 'Age'."
   ]
  },
  {
   "cell_type": "markdown",
   "metadata": {},
   "source": [
    "### Traitement de nos variables catégorielles :"
   ]
  },
  {
   "cell_type": "code",
   "execution_count": null,
   "metadata": {},
   "outputs": [],
   "source": [
    "display(df_salary.select_dtypes(include='O'))\n",
    "\n",
    "print(f'Nombre de catégories différentes dans la variable genre : {df_salary['Gender'].nunique()}.')\n",
    "print(f'Nombre de catégories différentes dans la variable métier : {df_salary['Job_Title'].nunique()}.')\n",
    "print(f'Nombre de catégories différentes dans la variable zone : {df_salary['Location'].nunique()}.')\n",
    "print(f'Nombre de catégories différentes dans la variable niveau d\\'éducation : {df_salary['Education'].nunique()}.')"
   ]
  },
  {
   "cell_type": "markdown",
   "metadata": {},
   "source": [
    "Points à relever : \n",
    "- Nous constatons qu'il n'y a pas beaucoup de catégorie sur nos variables, dans le cas contraire, il est judicieux de venir sélectionner les valeurs les plus représentés de nos variables pour éviter des problèmes de dimensionnalité dans notre modèle."
   ]
  },
  {
   "cell_type": "code",
   "execution_count": null,
   "metadata": {},
   "outputs": [],
   "source": [
    "# La méthode pandas .get_dummies() nous permet d'encoder nos variables catégorielles :\n",
    "\n",
    "X_train_enc = pd.get_dummies(X_train.select_dtypes(include='O'), columns=['Gender', 'Job_Title', 'Location', 'Education'], drop_first=True).astype(int)\n",
    "X_test_enc = pd.get_dummies(X_test.select_dtypes(include='O'), columns=['Gender', 'Job_Title', 'Location', 'Education'], drop_first=True).astype(int)\n",
    "display(X_test_enc)"
   ]
  },
  {
   "cell_type": "markdown",
   "metadata": {},
   "source": [
    "Points à relever :\n",
    "- Nous constatons que le code n'a pas générer une nouvelle colonnes pour les premières catégories de nos variables, cela s'explique par le paramètre 'drop_first'. En effet, ce paramètre supprime intentionnellement la première catégorie de chaque variable catégorielle pour éviter la multicolinéarité.\n",
    "\n",
    "- Ainsi, si Gender_Male est 0, cela indique implicitement que le genre est Female."
   ]
  },
  {
   "cell_type": "markdown",
   "metadata": {},
   "source": [
    "### Fusions de nos DataFrames normalisés et encodés :"
   ]
  },
  {
   "cell_type": "code",
   "execution_count": null,
   "metadata": {},
   "outputs": [],
   "source": [
    "# Fusion des jeux de données pour nourrir notre modèle de régression :\n",
    "\n",
    "X_train_clean = pd.merge(X_train_enc, X_train_nor, left_index=True, right_index=True)\n",
    "X_test_clean = pd.merge(X_test_enc, X_test_nor, left_index=True, right_index=True)\n",
    "display(X_test_clean)"
   ]
  },
  {
   "cell_type": "code",
   "execution_count": null,
   "metadata": {},
   "outputs": [],
   "source": [
    "# Ajouter la variable target aux ensembles d'entraînement et de test :\n",
    "\n",
    "df_train_clean = pd.merge(X_train_clean, y_train, left_index=True, right_index=True)\n",
    "df_test_clean = pd.merge(X_test_clean, y_test, left_index=True, right_index=True)\n",
    "display(df_test_clean)"
   ]
  },
  {
   "cell_type": "markdown",
   "metadata": {},
   "source": [
    "Point à relever :\n",
    "- Nous remarquons que nos données normalisées, nos données encodées et notre target variable ont été fusionnées correctement.\n",
    "\n",
    "- Les étapes de normalisation et d'encodage des données permettent aux modèles de Machine Learning de comprendre les tendances mathématiques sous-jacentes de notre jeu de données.\n",
    "\n",
    "- La normalisation assure que les différentes caractéristiques sont sur la même échelle, l'encodage des variables catégorielles transforme les catégories en un format numérique, facilement interprétable pour les modèles prédictifs."
   ]
  },
  {
   "cell_type": "markdown",
   "metadata": {},
   "source": [
    "### Initialisation du modèle linéaire :"
   ]
  },
  {
   "cell_type": "code",
   "execution_count": null,
   "metadata": {},
   "outputs": [],
   "source": [
    "# Re-séparation des features et de la variable target pour notre modèle :\n",
    "\n",
    "X_train_ml = df_train_clean.drop(columns=['Salary'])\n",
    "X_test_ml = df_test_clean.drop(columns=['Salary'])\n",
    "y_train_ml = df_train_clean['Salary']\n",
    "y_test_ml = df_test_clean['Salary']\n",
    "\n",
    "model = LinearRegression() # Création d'un objet LinearRegression()\n",
    "\n",
    "model.fit(X_train_ml, y_train_ml) # Entraînement du modèle sur nos données qui y sont destinées\n",
    "y_pred = model.predict(X_test_ml) # Prédictions sur l'ensemble de test"
   ]
  },
  {
   "cell_type": "code",
   "execution_count": null,
   "metadata": {},
   "outputs": [],
   "source": [
    "# Évaluation du modèle :\n",
    "\n",
    "mse = mean_squared_error(y_test_ml, y_pred)\n",
    "rmse = sqrt(mean_squared_error(y_test_ml, y_pred))\n",
    "r2 = r2_score(y_test_ml, y_pred)\n",
    "\n",
    "print(f'L\\'erreur quadratique moyenne ou MSE est égale à : {round(mse, 2)}.')\n",
    "print(f'La racine carré du MSE ou RMSE est égale à : {round(rmse, 2)}.')\n",
    "print(f'La performance du modèle pour prédire les salaires, donnée par le coefficient de détermination est de R² : {round(r2 * 100, 2)}%.')\n",
    "\n",
    "# Affichage des coefficients du modèle :\n",
    "\n",
    "coefficients = pd.DataFrame(model.coef_, X_train_ml.columns, columns=['Coefficient'])\n",
    "coefficients = coefficients.sort_values(by='Coefficient', ascending=False).round(2)\n",
    "display(coefficients)"
   ]
  },
  {
   "cell_type": "markdown",
   "metadata": {},
   "source": [
    "Points à relever :\n",
    "\n",
    "- Le RMSE est la racine carrée du MSE. C'est une mesure plus interprétable que le MSE car elle est dans la même unité que la variable cible, soit en dollars. Un RMSE de 10,295.45 indique que, en moyenne, les prédictions de salaire du modèle sont à environ 10,295 dollars de la valeur réelle. Les coefficients sont également intéressants.\n",
    "\n",
    "- Les valeurs de MSE et RMSE, bien qu'élevées, sont cohérentes avec la nature des données salariales qui peuvent varier de manière significative.\n",
    "\n",
    "- La régression linéaire montre de bonnes performances avec un R² élevé, indiquant qu'elle explique bien les variations de salaire."
   ]
  },
  {
   "cell_type": "markdown",
   "metadata": {},
   "source": [
    "# Que faut t-il faire ensuite ?\n",
    "\n",
    "#### Durant ce live coding, nous avons tenté de comprendre comment un modèle de régression linéaire fonctionnait.\n",
    "\n",
    "### Mais quelles sont les prochaines étapes du Data Scientist après avoir constaté le R² et la MSE ?\n",
    "\n",
    "### Il va falloir qu'il affûte son modèle !\n",
    "\n",
    "Pour cela, il peut identifier les features qui ont le plus d'impact sur la prédiction des salaires. Il va donc utiliser des techniques comme la réduction de dimensions qui lui permettra de e débarrasser des features qui nous ralentissent et ne servent à rien.\n",
    "\n",
    "##### Mais il va surtout tester le modèle sur plusieurs ensembles de données différents...\n",
    "\n",
    "Pour s'assurer qu'il n'apprend pas par coeur les données et qu'il généralise bien à de nouvelles situations. \n",
    "\n",
    "### Il va ensuite déployer sont modèle de Machine Learning !\n",
    "\n",
    "Il va choisir la plateforme idéale pour héberger sont modèle, en fonction de ses besoins en termes de puissance, de scalabilité et de coûts. Des options populaires incluent les plateformes cloud comme Google Cloud Platform, Amazon Web Services ou Microsoft Azure, ou encore des solutions sur site comme Docker ou Kubernetes.\n",
    "\n",
    "Plus précisement, il va enregistrer sont modèle dans un format adéquat pour le déploiement, comme un fichier pickle. Il va ensuite créer un script ou une application pour charger le modèle, faire des prédictions et interpréter les résultats.\n",
    "\n",
    "### Mais à la base des prédictions salariales des différents sites, il y a un script Python qui ressemble un peu au nôtre !"
   ]
  }
 ],
 "metadata": {
  "kernelspec": {
   "display_name": "env",
   "language": "python",
   "name": "python3"
  },
  "language_info": {
   "codemirror_mode": {
    "name": "ipython",
    "version": 3
   },
   "file_extension": ".py",
   "mimetype": "text/x-python",
   "name": "python",
   "nbconvert_exporter": "python",
   "pygments_lexer": "ipython3",
   "version": "3.11.9"
  }
 },
 "nbformat": 4,
 "nbformat_minor": 2
}

{
 "cells": [
  {
   "cell_type": "markdown",
   "metadata": {},
   "source": [
    "## Model Generation"
   ]
  },
  {
   "cell_type": "code",
   "execution_count": null,
   "metadata": {},
   "outputs": [
    {
     "name": "stderr",
     "output_type": "stream",
     "text": [
      "c:\\Users\\jeanb\\projets\\machine-learning-intiation\\env\\Lib\\site-packages\\tqdm\\auto.py:21: TqdmWarning: IProgress not found. Please update jupyter and ipywidgets. See https://ipywidgets.readthedocs.io/en/stable/user_install.html\n",
      "  from .autonotebook import tqdm as notebook_tqdm\n"
     ]
    }
   ],
   "source": [
    "import pandas as pd\n",
    "import numpy as np\n",
    "import matplotlib.pyplot as plt\n",
    "import seaborn as sns\n",
    "from sklearn.linear_model import LinearRegression\n",
    "from sklearn.model_selection import train_test_split, cross_val_score\n",
    "from sklearn.metrics import mean_squared_error, r2_score\n",
    "from math import sqrt\n",
    "from sklearn.feature_selection import SelectKBest, f_classif\n",
    "from sklearn.linear_model import Lasso, Ridge\n",
    "from sklearn.preprocessing import PolynomialFeatures\n",
    "from sklearn.model_selection import cross_validate\n",
    "import statsmodels.api as sm\n",
    "from scipy import stats"
   ]
  },
  {
   "cell_type": "code",
   "execution_count": 2,
   "metadata": {},
   "outputs": [
    {
     "name": "stdout",
     "output_type": "stream",
     "text": [
      "   Experience       Age  Education_High School  Education_Master  \\\n",
      "0    0.250000  0.977273                      1                 0   \n",
      "1    0.357143  0.886364                      0                 0   \n",
      "2    0.964286  0.931818                      0                 0   \n",
      "3    1.000000  0.568182                      1                 0   \n",
      "4    0.857143  0.136364                      0                 0   \n",
      "\n",
      "   Education_PhD  Location_Suburban  Location_Urban  Job_Title_Director  \\\n",
      "0              0                  0               1                   0   \n",
      "1              1                  1               0                   1   \n",
      "2              0                  1               0                   0   \n",
      "3              0                  0               0                   1   \n",
      "4              1                  0               1                   0   \n",
      "\n",
      "   Job_Title_Engineer  Job_Title_Manager  Gender_Male         Salary  \n",
      "0                   0                  1            1   84620.053665  \n",
      "1                   0                  0            1  142591.255894  \n",
      "2                   0                  1            0   97800.255404  \n",
      "3                   0                  0            1   96834.671282  \n",
      "4                   0                  0            0  132157.786175  \n"
     ]
    }
   ],
   "source": [
    "df = pd.read_csv('ressources/datasets/salary_prediction_data_clean.csv')\n",
    "print(df.head())"
   ]
  },
  {
   "cell_type": "code",
   "execution_count": 3,
   "metadata": {},
   "outputs": [
    {
     "data": {
      "application/vnd.microsoft.datawrangler.viewer.v0+json": {
       "columns": [
        {
         "name": "index",
         "rawType": "object",
         "type": "string"
        },
        {
         "name": "Experience",
         "rawType": "float64",
         "type": "float"
        },
        {
         "name": "Age",
         "rawType": "float64",
         "type": "float"
        },
        {
         "name": "Education_High School",
         "rawType": "float64",
         "type": "float"
        },
        {
         "name": "Education_Master",
         "rawType": "float64",
         "type": "float"
        },
        {
         "name": "Education_PhD",
         "rawType": "float64",
         "type": "float"
        },
        {
         "name": "Location_Suburban",
         "rawType": "float64",
         "type": "float"
        },
        {
         "name": "Location_Urban",
         "rawType": "float64",
         "type": "float"
        },
        {
         "name": "Job_Title_Director",
         "rawType": "float64",
         "type": "float"
        },
        {
         "name": "Job_Title_Engineer",
         "rawType": "float64",
         "type": "float"
        },
        {
         "name": "Job_Title_Manager",
         "rawType": "float64",
         "type": "float"
        },
        {
         "name": "Gender_Male",
         "rawType": "float64",
         "type": "float"
        },
        {
         "name": "Salary",
         "rawType": "float64",
         "type": "float"
        }
       ],
       "conversionMethod": "pd.DataFrame",
       "ref": "d9074d7e-1555-436f-b16b-9f7dee1c22a2",
       "rows": [
        [
         "count",
         "1000.0",
         "1000.0",
         "1000.0",
         "1000.0",
         "1000.0",
         "1000.0",
         "1000.0",
         "1000.0",
         "1000.0",
         "1000.0",
         "1000.0",
         "1000.0"
        ],
        [
         "mean",
         "0.4918214285714286",
         "0.5085681818181819",
         "0.255",
         "0.241",
         "0.251",
         "0.345",
         "0.31",
         "0.275",
         "0.229",
         "0.241",
         "0.516",
         "105558.40423878128"
        ],
        [
         "std",
         "0.29789682232518916",
         "0.3093048115865688",
         "0.4360793106364542",
         "0.4279043141896353",
         "0.43380547159664457",
         "0.475606140836303",
         "0.4627246633951059",
         "0.44673770220854947",
         "0.4203994954037596",
         "0.4279043141896353",
         "0.4999939939579214",
         "28256.972074958725"
        ],
        [
         "min",
         "0.0",
         "0.0",
         "0.0",
         "0.0",
         "0.0",
         "0.0",
         "0.0",
         "0.0",
         "0.0",
         "0.0",
         "0.0",
         "33510.51066927126"
        ],
        [
         "25%",
         "0.2142857142857143",
         "0.2272727272727273",
         "0.0",
         "0.0",
         "0.0",
         "0.0",
         "0.0",
         "0.0",
         "0.0",
         "0.0",
         "0.0",
         "85032.14151742366"
        ],
        [
         "50%",
         "0.5",
         "0.5227272727272727",
         "0.0",
         "0.0",
         "0.0",
         "0.0",
         "0.0",
         "0.0",
         "0.0",
         "0.0",
         "1.0",
         "104314.51831484515"
        ],
        [
         "75%",
         "0.75",
         "0.7954545454545454",
         "1.0",
         "0.0",
         "1.0",
         "1.0",
         "1.0",
         "1.0",
         "0.0",
         "0.0",
         "1.0",
         "126804.04752400877"
        ],
        [
         "max",
         "1.0",
         "1.0",
         "1.0",
         "1.0",
         "1.0",
         "1.0",
         "1.0",
         "1.0",
         "1.0",
         "1.0",
         "1.0",
         "193016.60214967115"
        ]
       ],
       "shape": {
        "columns": 12,
        "rows": 8
       }
      },
      "text/html": [
       "<div>\n",
       "<style scoped>\n",
       "    .dataframe tbody tr th:only-of-type {\n",
       "        vertical-align: middle;\n",
       "    }\n",
       "\n",
       "    .dataframe tbody tr th {\n",
       "        vertical-align: top;\n",
       "    }\n",
       "\n",
       "    .dataframe thead th {\n",
       "        text-align: right;\n",
       "    }\n",
       "</style>\n",
       "<table border=\"1\" class=\"dataframe\">\n",
       "  <thead>\n",
       "    <tr style=\"text-align: right;\">\n",
       "      <th></th>\n",
       "      <th>Experience</th>\n",
       "      <th>Age</th>\n",
       "      <th>Education_High School</th>\n",
       "      <th>Education_Master</th>\n",
       "      <th>Education_PhD</th>\n",
       "      <th>Location_Suburban</th>\n",
       "      <th>Location_Urban</th>\n",
       "      <th>Job_Title_Director</th>\n",
       "      <th>Job_Title_Engineer</th>\n",
       "      <th>Job_Title_Manager</th>\n",
       "      <th>Gender_Male</th>\n",
       "      <th>Salary</th>\n",
       "    </tr>\n",
       "  </thead>\n",
       "  <tbody>\n",
       "    <tr>\n",
       "      <th>count</th>\n",
       "      <td>1000.000000</td>\n",
       "      <td>1000.000000</td>\n",
       "      <td>1000.000000</td>\n",
       "      <td>1000.000000</td>\n",
       "      <td>1000.000000</td>\n",
       "      <td>1000.000000</td>\n",
       "      <td>1000.000000</td>\n",
       "      <td>1000.000000</td>\n",
       "      <td>1000.000000</td>\n",
       "      <td>1000.000000</td>\n",
       "      <td>1000.000000</td>\n",
       "      <td>1000.000000</td>\n",
       "    </tr>\n",
       "    <tr>\n",
       "      <th>mean</th>\n",
       "      <td>0.491821</td>\n",
       "      <td>0.508568</td>\n",
       "      <td>0.255000</td>\n",
       "      <td>0.241000</td>\n",
       "      <td>0.251000</td>\n",
       "      <td>0.345000</td>\n",
       "      <td>0.310000</td>\n",
       "      <td>0.275000</td>\n",
       "      <td>0.229000</td>\n",
       "      <td>0.241000</td>\n",
       "      <td>0.516000</td>\n",
       "      <td>105558.404239</td>\n",
       "    </tr>\n",
       "    <tr>\n",
       "      <th>std</th>\n",
       "      <td>0.297897</td>\n",
       "      <td>0.309305</td>\n",
       "      <td>0.436079</td>\n",
       "      <td>0.427904</td>\n",
       "      <td>0.433805</td>\n",
       "      <td>0.475606</td>\n",
       "      <td>0.462725</td>\n",
       "      <td>0.446738</td>\n",
       "      <td>0.420399</td>\n",
       "      <td>0.427904</td>\n",
       "      <td>0.499994</td>\n",
       "      <td>28256.972075</td>\n",
       "    </tr>\n",
       "    <tr>\n",
       "      <th>min</th>\n",
       "      <td>0.000000</td>\n",
       "      <td>0.000000</td>\n",
       "      <td>0.000000</td>\n",
       "      <td>0.000000</td>\n",
       "      <td>0.000000</td>\n",
       "      <td>0.000000</td>\n",
       "      <td>0.000000</td>\n",
       "      <td>0.000000</td>\n",
       "      <td>0.000000</td>\n",
       "      <td>0.000000</td>\n",
       "      <td>0.000000</td>\n",
       "      <td>33510.510669</td>\n",
       "    </tr>\n",
       "    <tr>\n",
       "      <th>25%</th>\n",
       "      <td>0.214286</td>\n",
       "      <td>0.227273</td>\n",
       "      <td>0.000000</td>\n",
       "      <td>0.000000</td>\n",
       "      <td>0.000000</td>\n",
       "      <td>0.000000</td>\n",
       "      <td>0.000000</td>\n",
       "      <td>0.000000</td>\n",
       "      <td>0.000000</td>\n",
       "      <td>0.000000</td>\n",
       "      <td>0.000000</td>\n",
       "      <td>85032.141517</td>\n",
       "    </tr>\n",
       "    <tr>\n",
       "      <th>50%</th>\n",
       "      <td>0.500000</td>\n",
       "      <td>0.522727</td>\n",
       "      <td>0.000000</td>\n",
       "      <td>0.000000</td>\n",
       "      <td>0.000000</td>\n",
       "      <td>0.000000</td>\n",
       "      <td>0.000000</td>\n",
       "      <td>0.000000</td>\n",
       "      <td>0.000000</td>\n",
       "      <td>0.000000</td>\n",
       "      <td>1.000000</td>\n",
       "      <td>104314.518315</td>\n",
       "    </tr>\n",
       "    <tr>\n",
       "      <th>75%</th>\n",
       "      <td>0.750000</td>\n",
       "      <td>0.795455</td>\n",
       "      <td>1.000000</td>\n",
       "      <td>0.000000</td>\n",
       "      <td>1.000000</td>\n",
       "      <td>1.000000</td>\n",
       "      <td>1.000000</td>\n",
       "      <td>1.000000</td>\n",
       "      <td>0.000000</td>\n",
       "      <td>0.000000</td>\n",
       "      <td>1.000000</td>\n",
       "      <td>126804.047524</td>\n",
       "    </tr>\n",
       "    <tr>\n",
       "      <th>max</th>\n",
       "      <td>1.000000</td>\n",
       "      <td>1.000000</td>\n",
       "      <td>1.000000</td>\n",
       "      <td>1.000000</td>\n",
       "      <td>1.000000</td>\n",
       "      <td>1.000000</td>\n",
       "      <td>1.000000</td>\n",
       "      <td>1.000000</td>\n",
       "      <td>1.000000</td>\n",
       "      <td>1.000000</td>\n",
       "      <td>1.000000</td>\n",
       "      <td>193016.602150</td>\n",
       "    </tr>\n",
       "  </tbody>\n",
       "</table>\n",
       "</div>"
      ],
      "text/plain": [
       "        Experience          Age  Education_High School  Education_Master  \\\n",
       "count  1000.000000  1000.000000            1000.000000       1000.000000   \n",
       "mean      0.491821     0.508568               0.255000          0.241000   \n",
       "std       0.297897     0.309305               0.436079          0.427904   \n",
       "min       0.000000     0.000000               0.000000          0.000000   \n",
       "25%       0.214286     0.227273               0.000000          0.000000   \n",
       "50%       0.500000     0.522727               0.000000          0.000000   \n",
       "75%       0.750000     0.795455               1.000000          0.000000   \n",
       "max       1.000000     1.000000               1.000000          1.000000   \n",
       "\n",
       "       Education_PhD  Location_Suburban  Location_Urban  Job_Title_Director  \\\n",
       "count    1000.000000        1000.000000     1000.000000         1000.000000   \n",
       "mean        0.251000           0.345000        0.310000            0.275000   \n",
       "std         0.433805           0.475606        0.462725            0.446738   \n",
       "min         0.000000           0.000000        0.000000            0.000000   \n",
       "25%         0.000000           0.000000        0.000000            0.000000   \n",
       "50%         0.000000           0.000000        0.000000            0.000000   \n",
       "75%         1.000000           1.000000        1.000000            1.000000   \n",
       "max         1.000000           1.000000        1.000000            1.000000   \n",
       "\n",
       "       Job_Title_Engineer  Job_Title_Manager  Gender_Male         Salary  \n",
       "count         1000.000000        1000.000000  1000.000000    1000.000000  \n",
       "mean             0.229000           0.241000     0.516000  105558.404239  \n",
       "std              0.420399           0.427904     0.499994   28256.972075  \n",
       "min              0.000000           0.000000     0.000000   33510.510669  \n",
       "25%              0.000000           0.000000     0.000000   85032.141517  \n",
       "50%              0.000000           0.000000     1.000000  104314.518315  \n",
       "75%              0.000000           0.000000     1.000000  126804.047524  \n",
       "max              1.000000           1.000000     1.000000  193016.602150  "
      ]
     },
     "execution_count": 3,
     "metadata": {},
     "output_type": "execute_result"
    }
   ],
   "source": [
    "df.describe()"
   ]
  },
  {
   "cell_type": "code",
   "execution_count": 4,
   "metadata": {},
   "outputs": [],
   "source": [
    "X = df.drop('Salary', axis=1)\n",
    "y = df['Salary']\n",
    "\n",
    "x_train, x_test, y_train, y_test = train_test_split(X, y, test_size=0.2, random_state=42)"
   ]
  },
  {
   "cell_type": "code",
   "execution_count": 5,
   "metadata": {},
   "outputs": [],
   "source": [
    "lreg = LinearRegression()\n",
    "lreg.fit(x_train, y_train)\n",
    "\n",
    "y_pred = lreg.predict(x_test)"
   ]
  },
  {
   "cell_type": "markdown",
   "metadata": {},
   "source": [
    "### Evaluation du Model"
   ]
  },
  {
   "cell_type": "code",
   "execution_count": 6,
   "metadata": {},
   "outputs": [
    {
     "name": "stdout",
     "output_type": "stream",
     "text": [
      "MSE : 105996277.66096848\n",
      "RMSE : 10295.44936663614\n",
      "R2 : 87.02%\n"
     ]
    }
   ],
   "source": [
    "mse = mean_squared_error(y_test, y_pred)\n",
    "mrse = sqrt(mse)\n",
    "\n",
    "print(f\"MSE : {mse}\\nRMSE : {mrse}\")\n",
    "\n",
    "accuracy = r2_score(y_test, y_pred)\n",
    "print(f\"R2 : {round(accuracy * 100, 2)}%\")"
   ]
  },
  {
   "cell_type": "markdown",
   "metadata": {},
   "source": [
    "L'erreur quadratique moyenne est de 105996277 (MRSE: 10295.4)\n",
    "Les prédictions de salaires sont donc à 10295.4 des valeurs réelles.\n",
    "\n",
    "Coefficient de détermination du model : 87.02%"
   ]
  },
  {
   "cell_type": "code",
   "execution_count": 7,
   "metadata": {},
   "outputs": [
    {
     "data": {
      "application/vnd.microsoft.datawrangler.viewer.v0+json": {
       "columns": [
        {
         "name": "index",
         "rawType": "object",
         "type": "string"
        },
        {
         "name": "Coefficient",
         "rawType": "float64",
         "type": "float"
        }
       ],
       "conversionMethod": "pd.DataFrame",
       "ref": "266d6f09-deb3-4f2e-b642-725a09cfa2fd",
       "rows": [
        [
         "Education_PhD",
         "40306.36"
        ],
        [
         "Experience",
         "28060.99"
        ],
        [
         "Job_Title_Director",
         "25106.58"
        ],
        [
         "Education_Master",
         "21105.77"
        ],
        [
         "Job_Title_Manager",
         "15284.96"
        ],
        [
         "Location_Urban",
         "9920.74"
        ],
        [
         "Location_Suburban",
         "4839.29"
        ],
        [
         "Job_Title_Engineer",
         "3979.18"
        ],
        [
         "Gender_Male",
         "503.42"
        ],
        [
         "Age",
         "440.21"
        ],
        [
         "Education_High School",
         "-18194.08"
        ]
       ],
       "shape": {
        "columns": 1,
        "rows": 11
       }
      },
      "text/html": [
       "<div>\n",
       "<style scoped>\n",
       "    .dataframe tbody tr th:only-of-type {\n",
       "        vertical-align: middle;\n",
       "    }\n",
       "\n",
       "    .dataframe tbody tr th {\n",
       "        vertical-align: top;\n",
       "    }\n",
       "\n",
       "    .dataframe thead th {\n",
       "        text-align: right;\n",
       "    }\n",
       "</style>\n",
       "<table border=\"1\" class=\"dataframe\">\n",
       "  <thead>\n",
       "    <tr style=\"text-align: right;\">\n",
       "      <th></th>\n",
       "      <th>Coefficient</th>\n",
       "    </tr>\n",
       "  </thead>\n",
       "  <tbody>\n",
       "    <tr>\n",
       "      <th>Education_PhD</th>\n",
       "      <td>40306.36</td>\n",
       "    </tr>\n",
       "    <tr>\n",
       "      <th>Experience</th>\n",
       "      <td>28060.99</td>\n",
       "    </tr>\n",
       "    <tr>\n",
       "      <th>Job_Title_Director</th>\n",
       "      <td>25106.58</td>\n",
       "    </tr>\n",
       "    <tr>\n",
       "      <th>Education_Master</th>\n",
       "      <td>21105.77</td>\n",
       "    </tr>\n",
       "    <tr>\n",
       "      <th>Job_Title_Manager</th>\n",
       "      <td>15284.96</td>\n",
       "    </tr>\n",
       "    <tr>\n",
       "      <th>Location_Urban</th>\n",
       "      <td>9920.74</td>\n",
       "    </tr>\n",
       "    <tr>\n",
       "      <th>Location_Suburban</th>\n",
       "      <td>4839.29</td>\n",
       "    </tr>\n",
       "    <tr>\n",
       "      <th>Job_Title_Engineer</th>\n",
       "      <td>3979.18</td>\n",
       "    </tr>\n",
       "    <tr>\n",
       "      <th>Gender_Male</th>\n",
       "      <td>503.42</td>\n",
       "    </tr>\n",
       "    <tr>\n",
       "      <th>Age</th>\n",
       "      <td>440.21</td>\n",
       "    </tr>\n",
       "    <tr>\n",
       "      <th>Education_High School</th>\n",
       "      <td>-18194.08</td>\n",
       "    </tr>\n",
       "  </tbody>\n",
       "</table>\n",
       "</div>"
      ],
      "text/plain": [
       "                       Coefficient\n",
       "Education_PhD             40306.36\n",
       "Experience                28060.99\n",
       "Job_Title_Director        25106.58\n",
       "Education_Master          21105.77\n",
       "Job_Title_Manager         15284.96\n",
       "Location_Urban             9920.74\n",
       "Location_Suburban          4839.29\n",
       "Job_Title_Engineer         3979.18\n",
       "Gender_Male                 503.42\n",
       "Age                         440.21\n",
       "Education_High School    -18194.08"
      ]
     },
     "metadata": {},
     "output_type": "display_data"
    }
   ],
   "source": [
    "coefficients = pd.DataFrame(lreg.coef_, X.columns, columns=['Coefficient'])\n",
    "coefficients = coefficients.sort_values('Coefficient', ascending=False).round(2)\n",
    "coefficients_linear = dict(zip(X.columns, lreg.coef_))\n",
    "\n",
    "display(coefficients)"
   ]
  },
  {
   "cell_type": "markdown",
   "metadata": {},
   "source": [
    "### Réduction de dimension"
   ]
  },
  {
   "cell_type": "markdown",
   "metadata": {},
   "source": [
    "#### Selection de caractéristiques K-Best"
   ]
  },
  {
   "cell_type": "code",
   "execution_count": 8,
   "metadata": {},
   "outputs": [
    {
     "name": "stdout",
     "output_type": "stream",
     "text": [
      "MSE : 105996277.66096848\n",
      "RMSE : 10295.44936663614\n",
      "R2 : 87.02%\n"
     ]
    },
    {
     "name": "stderr",
     "output_type": "stream",
     "text": [
      "c:\\Users\\jeanb\\projets\\machine-learning-intiation\\env\\Lib\\site-packages\\sklearn\\feature_selection\\_univariate_selection.py:108: RuntimeWarning: invalid value encountered in divide\n",
      "  msw = sswn / float(dfwn)\n"
     ]
    }
   ],
   "source": [
    "selector = SelectKBest(f_classif, k=11)\n",
    "X_new = selector.fit_transform(X, y)\n",
    "\n",
    "x_train_new, x_test_new, y_train_new, y_test_new = train_test_split(X_new, y, test_size=0.2, random_state=42)   \n",
    "\n",
    "lreg_new = LinearRegression()\n",
    "lreg_new.fit(x_train_new, y_train_new)\n",
    "y_pred_new = lreg_new.predict(x_test_new)\n",
    "\n",
    "mse_new = mean_squared_error(y_test_new, y_pred_new)\n",
    "mrse_new = sqrt(mse_new)\n",
    "r2_new = r2_score(y_test_new, y_pred_new)\n",
    "\n",
    "print(f\"MSE : {mse_new}\\nRMSE : {mrse_new}\\nR2 : {round(r2_new * 100, 2)}%\")"
   ]
  },
  {
   "cell_type": "markdown",
   "metadata": {},
   "source": [
    "pas d'amélioration notable"
   ]
  },
  {
   "cell_type": "code",
   "execution_count": 9,
   "metadata": {},
   "outputs": [
    {
     "name": "stdout",
     "output_type": "stream",
     "text": [
      "MSE : 105640152.52819301\n",
      "RMSE : 10278.139546055649\n",
      "R2 : 87.06%\n"
     ]
    }
   ],
   "source": [
    "X_0 = X.drop(['Age'], axis=1)\n",
    "x_train_0, x_test_0, y_train_0, y_test_0 = train_test_split(X_0, y, test_size=0.2, random_state=42)\n",
    "lreg_0 = LinearRegression()\n",
    "lreg_0.fit(x_train_0, y_train_0)\n",
    "y_pred_0 = lreg_0.predict(x_test_0)\n",
    "\n",
    "mse_0 = mean_squared_error(y_test_0, y_pred_0)\n",
    "mrse_0 = sqrt(mse_0)\n",
    "r2_0 = r2_score(y_test_0, y_pred_0)\n",
    "print(f\"MSE : {mse_0}\\nRMSE : {mrse_0}\\nR2 : {round(r2_0 * 100, 2)}%\")"
   ]
  },
  {
   "cell_type": "markdown",
   "metadata": {},
   "source": [
    "En supprimant la variable 'Age' on améliore très légèrement le coeff de détermination à 87.96%"
   ]
  },
  {
   "cell_type": "markdown",
   "metadata": {},
   "source": [
    "Idee pour la suite :\n",
    "\n",
    "    - Utiliser des Modèles Plus Complexes :\n",
    "    Essayez des modèles plus complexes comme la régression polynomiale, la régression Ridge, la régression Lasso, ou des modèles non linéaires comme les forêts aléatoires ou les réseaux de neurones.\n",
    "    \n",
    "    - Validation Croisée :\n",
    "    Utilisez la validation croisée pour évaluer la performance de votre modèle et éviter le surapprentissage."
   ]
  },
  {
   "cell_type": "markdown",
   "metadata": {},
   "source": [
    "### Lasso & Ridge Regression"
   ]
  },
  {
   "cell_type": "code",
   "execution_count": 48,
   "metadata": {},
   "outputs": [
    {
     "name": "stdout",
     "output_type": "stream",
     "text": [
      "Lasso validation MRSE is 10295.41702010152\n",
      "Lasso validation R2 is 0.8701871838639845\n"
     ]
    }
   ],
   "source": [
    "lreg_lasso = Lasso(alpha=0.1, fit_intercept=True)\n",
    "lreg_lasso.fit(x_train, y_train)\n",
    "y_pred_lasso = lreg_lasso.predict(x_test)\n",
    "\n",
    "mrse_lasso = sqrt(mean_squared_error(y_test,y_pred_lasso))\n",
    "r2_lasso = r2_score(y_test, y_pred_lasso)\n",
    "\n",
    "print (\"Lasso validation MRSE is\", mrse_lasso)\n",
    "print (f\"Lasso validation R2 is {r2_lasso}\")\n",
    "\n",
    "coefficient_lasso = dict(zip(X.columns, lreg_lasso.coef_))"
   ]
  },
  {
   "cell_type": "code",
   "execution_count": 49,
   "metadata": {},
   "outputs": [
    {
     "name": "stdout",
     "output_type": "stream",
     "text": [
      "Ridge validation MRSE is 10301.20430154407\n",
      "Ridge validation R2 is 0.8700412015397689\n"
     ]
    }
   ],
   "source": [
    "lreg_ridge = Ridge(alpha=0.65, fit_intercept=True)\n",
    "lreg_ridge.fit(x_train, y_train)\n",
    "y_pred_ridge = lreg_ridge.predict(x_test)\n",
    "\n",
    "mrse_ridge = sqrt(mean_squared_error(y_test,y_pred_ridge))\n",
    "r2_ridge = r2_score(y_test, y_pred_ridge)\n",
    "\n",
    "print (\"Ridge validation MRSE is\", mrse_ridge)\n",
    "print (f\"Ridge validation R2 is {r2_ridge}\")\n",
    "\n",
    "coefficient_ridge = dict(zip(X.columns, lreg_ridge.coef_))"
   ]
  },
  {
   "cell_type": "code",
   "execution_count": 12,
   "metadata": {},
   "outputs": [
    {
     "name": "stdout",
     "output_type": "stream",
     "text": [
      "coefficients_linear : {'Experience': np.float64(28060.987790084793), 'Age': np.float64(440.21001532132505), 'Education_High School': np.float64(-18194.08107071969), 'Education_Master': np.float64(21105.767850124546), 'Education_PhD': np.float64(40306.35692247886), 'Location_Suburban': np.float64(4839.288704243625), 'Location_Urban': np.float64(9920.736220517498), 'Job_Title_Director': np.float64(25106.575031171353), 'Job_Title_Engineer': np.float64(3979.1800910539278), 'Job_Title_Manager': np.float64(15284.961081072874), 'Gender_Male': np.float64(503.42204044617984)}\n",
      "coefficient_lasso : {'Experience': np.float64(28060.14445125464), 'Age': np.float64(439.10621664199994), 'Education_High School': np.float64(-18194.03717092386), 'Education_Master': np.float64(21104.884314148254), 'Education_PhD': np.float64(40305.479899347556), 'Location_Suburban': np.float64(4838.561687950822), 'Location_Urban': np.float64(9919.931121085763), 'Job_Title_Director': np.float64(25105.145736968687), 'Job_Title_Engineer': np.float64(3977.5985264397464), 'Job_Title_Manager': np.float64(15283.335725674488), 'Gender_Male': np.float64(502.98482794889475)}\n",
      "coefficient_ridge : {'Experience': np.float64(28024.588141939486), 'Age': np.float64(436.88495085866606), 'Education_High School': np.float64(-18205.6446617137), 'Education_Master': np.float64(21071.788816652406), 'Education_PhD': np.float64(40264.813427684145), 'Location_Suburban': np.float64(4837.197342121222), 'Location_Urban': np.float64(9915.092830336234), 'Job_Title_Director': np.float64(25076.696271043602), 'Job_Title_Engineer': np.float64(3955.5513972626995), 'Job_Title_Manager': np.float64(15256.362653518632), 'Gender_Male': np.float64(501.6295491545684)}\n"
     ]
    }
   ],
   "source": [
    "print(f\"coefficients_linear : {coefficients_linear}\")\n",
    "print(f\"coefficient_lasso : {coefficient_lasso}\")\n",
    "print(f\"coefficient_ridge : {coefficient_ridge}\")"
   ]
  },
  {
   "cell_type": "code",
   "execution_count": 13,
   "metadata": {},
   "outputs": [
    {
     "data": {
      "image/png": "[encoded data removed]",
      "text/plain": [
       "<Figure size 640x480 with 1 Axes>"
      ]
     },
     "metadata": {},
     "output_type": "display_data"
    }
   ],
   "source": [
    "lreg_x = list(coefficients_linear.keys())\n",
    "lreg_y = list(coefficients_linear.values())\n",
    "\n",
    "lasso_x = list(coefficient_lasso.keys())\n",
    "lasso_y = list(coefficient_lasso.values())\n",
    "\n",
    "ridge_x = list(coefficient_ridge.keys())\n",
    "ridge_y = list(coefficient_ridge.values())\n",
    "\n",
    "plt.rcdefaults()\n",
    "\n",
    "plt.barh(lreg_x,lreg_y,1.0, align='edge',color=\"#D3B4B4\", label=\"Linear Regression\")\n",
    "plt.barh(lasso_x,lasso_y,0.75 ,align='edge',color=\"#81BDB2\",label = \"Lasso regularisation\")\n",
    "plt.barh(ridge_x,ridge_y,0.25 ,align='edge',color=\"#7E7EC0\", label=\"Ridge regularisation\")\n",
    "plt.grid(linewidth=0.2)\n",
    "plt.xlabel(\"Coefficient\")\n",
    "plt.ylabel(\"Predictors\")\n",
    "plt.legend(loc='best')\n",
    "plt.show()"
   ]
  },
  {
   "cell_type": "code",
   "execution_count": 14,
   "metadata": {},
   "outputs": [
    {
     "name": "stdout",
     "output_type": "stream",
     "text": [
      "MSE : 105640152.52819347\n",
      "RMSE : 10278.13954605567\n",
      "R2 : 87.06%\n"
     ]
    }
   ],
   "source": [
    "poly = PolynomialFeatures(degree=1)\n",
    "X_poly_train = poly.fit_transform(x_train_0)\n",
    "x_poly_test = poly.fit_transform(x_test_0)\n",
    "\n",
    "polymodel = LinearRegression(fit_intercept=False)\n",
    "polymodel.fit(X_poly_train, y_train_0)\n",
    "y_poly_pred = polymodel.predict(x_poly_test)\n",
    "\n",
    "mse_poly = mean_squared_error(y_test, y_poly_pred)\n",
    "mrse_poly = sqrt(mse_poly)\n",
    "r2_poly = r2_score(y_test_0, y_poly_pred)\n",
    "\n",
    "print(f\"MSE : {mse_poly}\\nRMSE : {mrse_poly}\\nR2 : {round(r2_poly * 100, 2)}%\")\n"
   ]
  },
  {
   "cell_type": "code",
   "execution_count": 32,
   "metadata": {},
   "outputs": [
    {
     "name": "stdout",
     "output_type": "stream",
     "text": [
      "0.65\n"
     ]
    }
   ],
   "source": [
    "alphas = [0.1, 0.25, 0.5 , 0.65, 0.651, 0.66, 0.67, 0.7, 0.75, 0.8]\n",
    "training_error, validation_error = {},{}\n",
    "\n",
    "for alpha in alphas:\n",
    "    reg_ridge = Ridge(alpha=alpha, fit_intercept=False)\n",
    "    ridge_cv = cross_validate(reg_ridge, X, y, cv=5, scoring='neg_mean_squared_error', return_train_score=True)\n",
    "\n",
    "    mse_train = -np.mean(ridge_cv['train_score'])\n",
    "    training_error[alpha] = mse_train\n",
    "\n",
    "    mse_val = -np.mean(ridge_cv['test_score'])\n",
    "    validation_error[alpha] = mse_val\n",
    "\n",
    "best_alpha = min(validation_error, key=validation_error.get)\n",
    "print(best_alpha)\n"
   ]
  },
  {
   "cell_type": "code",
   "execution_count": 61,
   "metadata": {},
   "outputs": [
    {
     "name": "stdout",
     "output_type": "stream",
     "text": [
      "R^2 pour la régression linéaire simple : 0.8701863681609705\n",
      "MSE pour la régression linéaire simple : 105996277.66096848\n",
      "R^2 pour la régression polynomiale : 0.8701863681609703\n",
      "MSE pour la régression polynomiale : 105996277.66096859\n",
      "R^2 pour la régression Ridge : 0.8700412015397689\n",
      "MSE pour la régression Ridge : 106114810.06215006\n",
      "R^2 pour la régression Lasso : 0.8701915654848403\n",
      "MSE pour la régression Lasso : 105992033.90801123\n",
      "R^2 moyen pour la régression linéaire avec validation croisée : 0.8700403321880744\n"
     ]
    }
   ],
   "source": [
    "# Modèle de régression linéaire simple\n",
    "lreg = LinearRegression()\n",
    "lreg.fit(x_train, y_train)\n",
    "y_pred = lreg.predict(x_test)\n",
    "r2 = r2_score(y_test, y_pred)\n",
    "mse = mean_squared_error(y_test, y_pred)\n",
    "print(f\"R^2 pour la régression linéaire simple : {r2}\")\n",
    "print(f\"MSE pour la régression linéaire simple : {mse}\")\n",
    "\n",
    "# Régression polynomiale\n",
    "poly = PolynomialFeatures(degree=1)\n",
    "x_train_poly = poly.fit_transform(x_train)\n",
    "x_test_poly = poly.transform(x_test)\n",
    "lreg_poly = LinearRegression()\n",
    "lreg_poly.fit(x_train_poly, y_train)\n",
    "y_pred_poly = lreg_poly.predict(x_test_poly)\n",
    "r2_poly = r2_score(y_test, y_pred_poly)\n",
    "mse_poly = mean_squared_error(y_test, y_pred_poly)\n",
    "print(f\"R^2 pour la régression polynomiale : {r2_poly}\")\n",
    "print(f\"MSE pour la régression polynomiale : {mse_poly}\")\n",
    "\n",
    "# Régression Ridge\n",
    "ridge = Ridge(alpha=0.65)\n",
    "ridge.fit(x_train, y_train)\n",
    "y_pred_ridge = ridge.predict(x_test)\n",
    "r2_ridge = r2_score(y_test, y_pred_ridge)\n",
    "mse_ridge = mean_squared_error(y_test, y_pred_ridge)\n",
    "print(f\"R^2 pour la régression Ridge : {r2_ridge}\")\n",
    "print(f\"MSE pour la régression Ridge : {mse_ridge}\")\n",
    "\n",
    "# Régression Lasso\n",
    "lasso = Lasso(alpha=0.65)\n",
    "lasso.fit(x_train, y_train)\n",
    "y_pred_lasso = lasso.predict(x_test)\n",
    "r2_lasso = r2_score(y_test, y_pred_lasso)\n",
    "mse_lasso = mean_squared_error(y_test, y_pred_lasso)\n",
    "print(f\"R^2 pour la régression Lasso : {r2_lasso}\")\n",
    "print(f\"MSE pour la régression Lasso : {mse_lasso}\")\n",
    "\n",
    "# Validation croisée pour évaluer la performance des modèles\n",
    "scores = cross_val_score(lreg, X, y, cv=6, scoring='r2')\n",
    "print(f\"R^2 moyen pour la régression linéaire avec validation croisée : {scores.mean()}\")"
   ]
  },
  {
   "cell_type": "code",
   "execution_count": null,
   "metadata": {},
   "outputs": [
    {
     "data": {
      "image/png": "[encoded data removed]",
      "text/plain": [
       "<Figure size 640x480 with 1 Axes>"
      ]
     },
     "metadata": {},
     "output_type": "display_data"
    }
   ],
   "source": [
    "fig, ax = plt.subplots()\n",
    "ax.barh(coefficients_linear.keys(), coefficients_linear.values(), color=\"#336600\",alpha=0.7)\n",
    "ax.grid(linewidth=0.2)\n",
    "ax.set_xlabel(\"Coefficient\")\n",
    "ax.set_ylabel(\"Predictors\")\n",
    "plt.show()"
   ]
  },
  {
   "cell_type": "code",
   "execution_count": 78,
   "metadata": {},
   "outputs": [
    {
     "name": "stdout",
     "output_type": "stream",
     "text": [
      "                                 OLS Regression Results                                 \n",
      "========================================================================================\n",
      "Dep. Variable:                  Salary   R-squared (uncentered):                   0.967\n",
      "Model:                             OLS   Adj. R-squared (uncentered):              0.967\n",
      "Method:                  Least Squares   F-statistic:                              2634.\n",
      "Date:              sam., 22 févr. 2025   Prob (F-statistic):                        0.00\n",
      "Time:                         12:31:55   Log-Likelihood:                         -11315.\n",
      "No. Observations:                 1000   AIC:                                  2.265e+04\n",
      "Df Residuals:                      989   BIC:                                  2.271e+04\n",
      "Df Model:                           11                                                  \n",
      "Covariance Type:             nonrobust                                                  \n",
      "=========================================================================================\n",
      "                            coef    std err          t      P>|t|      [0.025      0.975]\n",
      "-----------------------------------------------------------------------------------------\n",
      "Experience             5.052e+04   1986.945     25.426      0.000    4.66e+04    5.44e+04\n",
      "Age                    2.216e+04   1881.529     11.779      0.000    1.85e+04    2.59e+04\n",
      "Education_High School  -836.6887   1659.939     -0.504      0.614   -4094.095    2420.718\n",
      "Education_Master       3.916e+04   1681.521     23.291      0.000    3.59e+04    4.25e+04\n",
      "Education_PhD          5.806e+04   1659.287     34.989      0.000    5.48e+04    6.13e+04\n",
      "Location_Suburban      1.427e+04   1489.363      9.581      0.000    1.13e+04    1.72e+04\n",
      "Location_Urban          1.95e+04   1530.253     12.744      0.000    1.65e+04    2.25e+04\n",
      "Job_Title_Director      4.25e+04   1623.603     26.178      0.000    3.93e+04    4.57e+04\n",
      "Job_Title_Engineer     2.224e+04   1716.059     12.963      0.000    1.89e+04    2.56e+04\n",
      "Job_Title_Manager        3.4e+04   1672.692     20.329      0.000    3.07e+04    3.73e+04\n",
      "Gender_Male            9904.6014   1222.339      8.103      0.000    7505.926    1.23e+04\n",
      "==============================================================================\n",
      "Omnibus:                        8.428   Durbin-Watson:                   1.773\n",
      "Prob(Omnibus):                  0.015   Jarque-Bera (JB):                5.971\n",
      "Skew:                          -0.038   Prob(JB):                       0.0505\n",
      "Kurtosis:                       2.629   Cond. No.                         4.85\n",
      "==============================================================================\n",
      "\n",
      "Notes:\n",
      "[1] R² is computed without centering (uncentered) since the model does not contain a constant.\n",
      "[2] Standard Errors assume that the covariance matrix of the errors is correctly specified.\n"
     ]
    }
   ],
   "source": [
    "constante = sm.add_constant(X)\n",
    "model = sm.OLS(y, X).fit()\n",
    "print(model.summary())"
   ]
  },
  {
   "cell_type": "code",
   "execution_count": 87,
   "metadata": {},
   "outputs": [
    {
     "data": {
      "text/plain": [
       "Experience               3.801088e-110\n",
       "Age                       4.580355e-30\n",
       "Education_High School     6.143400e-01\n",
       "Education_Master          5.217535e-96\n",
       "Education_PhD            3.489177e-175\n",
       "Location_Suburban         7.498453e-21\n",
       "Location_Urban            1.493175e-34\n",
       "Job_Title_Director       3.430706e-115\n",
       "Job_Title_Engineer        1.320628e-35\n",
       "Job_Title_Manager         4.840470e-77\n",
       "Gender_Male               1.572294e-15\n",
       "dtype: float64"
      ]
     },
     "execution_count": 87,
     "metadata": {},
     "output_type": "execute_result"
    }
   ],
   "source": [
    "model.pvalues"
   ]
  },
  {
   "cell_type": "code",
   "execution_count": 102,
   "metadata": {},
   "outputs": [
    {
     "name": "stdout",
     "output_type": "stream",
     "text": [
      "Experience               1.00000\n",
      "Age                      1.00000\n",
      "Education_High School    0.38566\n",
      "Education_Master         1.00000\n",
      "Education_PhD            1.00000\n",
      "Location_Suburban        1.00000\n",
      "Location_Urban           1.00000\n",
      "Job_Title_Director       1.00000\n",
      "Job_Title_Engineer       1.00000\n",
      "Job_Title_Manager        1.00000\n",
      "Gender_Male              1.00000\n",
      "dtype: float64\n"
     ]
    }
   ],
   "source": [
    "conf = 1 - model.pvalues\n",
    "print(conf)"
   ]
  },
  {
   "cell_type": "code",
   "execution_count": 105,
   "metadata": {},
   "outputs": [
    {
     "data": {
      "image/png": "[encoded data removed]",
      "text/plain": [
       "<Figure size 640x480 with 1 Axes>"
      ]
     },
     "metadata": {},
     "output_type": "display_data"
    }
   ],
   "source": [
    "fig, ax = plt.subplots()\n",
    "ax.barh(X.columns, conf, align='center',color=\"#336600\",alpha=0.7)\n",
    "ax.grid(linewidth=0.2)\n",
    "ax.axvline(x=0.95, linewidth=3, linestyle='--', color = 'black',alpha=0.8,label = '0.95')\n",
    "ax.set_xlabel(\"$1-p$ value\")\n",
    "ax.set_ylabel(\"Predictors\")\n",
    "ax.legend()\n",
    "plt.show()"
   ]
  },
  {
   "cell_type": "markdown",
   "metadata": {},
   "source": [
    "#### et si on retire Education High School ?"
   ]
  },
  {
   "cell_type": "code",
   "execution_count": 125,
   "metadata": {},
   "outputs": [
    {
     "name": "stdout",
     "output_type": "stream",
     "text": [
      "R2 : 0.8160521186809635\n",
      "R^2 moyen pour la régression linéaire avec validation croisée : 0.8168689957189393\n"
     ]
    }
   ],
   "source": [
    "df_t = df.drop('Education_High School', axis=1)\n",
    "X_t = df_t.drop('Salary', axis=1)\n",
    "y_t = df_t['Salary']\n",
    "\n",
    "x_train_t, x_test_t, y_train_t, y_test_t = train_test_split(X_t, y_t, test_size=0.2, random_state=42)\n",
    "lreg_t = LinearRegression()\n",
    "lreg_t.fit(x_train_t, y_train_t)\n",
    "y_pred_t = lreg_t.predict(x_test_t)\n",
    "\n",
    "r2 = r2_score(y_test_t, y_pred_t)\n",
    "print(f\"R2 : {r2}\")\n",
    "\n",
    "scores = cross_val_score(lreg_t, X_t, y_t, cv=6, scoring='r2')\n",
    "print(f\"R^2 moyen pour la régression linéaire avec validation croisée : {scores.mean()}\")"
   ]
  }
 ],
 "metadata": {
  "kernelspec": {
   "display_name": "env",
   "language": "python",
   "name": "python3"
  },
  "language_info": {
   "codemirror_mode": {
    "name": "ipython",
    "version": 3
   },
   "file_extension": ".py",
   "mimetype": "text/x-python",
   "name": "python",
   "nbconvert_exporter": "python",
   "pygments_lexer": "ipython3",
   "version": "3.11.9"
  }
 },
 "nbformat": 4,
 "nbformat_minor": 2
}
